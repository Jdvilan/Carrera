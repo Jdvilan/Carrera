{
  "nbformat": 4,
  "nbformat_minor": 0,
  "metadata": {
    "colab": {
      "provenance": [],
      "authorship_tag": "ABX9TyP/m7r1o8Y4kkVoIWcHSWus"
    },
    "kernelspec": {
      "name": "python3",
      "display_name": "Python 3"
    },
    "language_info": {
      "name": "python"
    }
  },
  "cells": [
    {
      "cell_type": "markdown",
      "source": [
        "**Solución analitica**\n",
        "\n",
        "$$\n",
        "f(x) = \\left\\{\n",
        "            \\begin{array}{ll}\n",
        "\t      \\frac{x-190}{400} & \\mathrm{si\\ } 190<x\\leq 210 \\\\\n",
        "\t      \\frac{230-x}{400} & \\mathrm{si\\ } 210<x\\leq 230\n",
        "            \\end{array}\n",
        "\t      \\right.\\\n",
        "$$\n",
        "\n",
        "$$\n",
        "E(x)=\\frac{190+210+230}{3}=210\n",
        "$$\n",
        "\n",
        "$$\n",
        "Var(x)=\\frac{190^2+210^2+230^2-190(210)-190(230)-210(230)}{18}=\\frac{200}{3}≈66.67\n",
        "$$\n",
        "\n",
        "Si la capacidad del camión es de una tonelada, ¿cuál es la probabilidad de que el peso de las tinas exceda la capacidad del camión?\n",
        "\n",
        "Sea x_i el peso de una tina,\n",
        "\n",
        "$$\n",
        "P(x_1+x_2+x_3+x_4+x_5>1000)\n",
        "$$\n",
        "\n",
        "Por el Teorema central del límite\n",
        "\n",
        "$$\n",
        "P\\left(\\frac{x_1+x_2+x_3+x_4+x_5}{5}>200\\right)=P(\\bar{x}>200)=P\\left(\\frac{\\bar{x}-μ}{\\frac{σ}{\\sqrt{5}}}>\\frac{200-210}{\\sqrt{\\frac{200}{3(5)}}}\\right)=P(z>-2.74)\n",
        "$$\n",
        "\n",
        "Usando la tabla de valores de normal estandar\n",
        "\n",
        "$$\n",
        "P(x_1+x_2+x_3+x_4+x_5>1000)=1-0.0031=0.9969\n",
        "$$"
      ],
      "metadata": {
        "id": "T5rkTG-Xktlu"
      }
    },
    {
      "cell_type": "markdown",
      "source": [
        "**Simulación**\n",
        "\n",
        "Aplicamos transformada inversa\n",
        "\n",
        "$$\n",
        "F(x) = \\left\\{\n",
        "            \\begin{array}{ll}\n",
        "\t      \\frac{(x-190)^2}{800} & \\mathrm{si\\ } 190<x\\leq 210 \\\\\n",
        "\t      1-\\frac{(230-x)^2}{800} & \\mathrm{si\\ } 210<x\\leq 230\n",
        "            \\end{array}\n",
        "\t      \\right.\\\n",
        "$$\n",
        "\n",
        "$$\n",
        "F^{-1}(U) = \\left\\{\n",
        "            \\begin{array}{ll}\n",
        "\t      190+\\sqrt{800U} & \\mathrm{si\\ } 0<U\\leq \\frac{1}{2} \\\\\n",
        "\t      230-\\sqrt{800(1-U)} & \\mathrm{si\\ } \\frac{1}{2}<U\\leq 1\n",
        "            \\end{array}\n",
        "\t      \\right.\\\n",
        "$$"
      ],
      "metadata": {
        "id": "FQDrZCbEqtJy"
      }
    },
    {
      "cell_type": "code",
      "source": [
        "import numpy as np\n",
        "import random as rnd\n",
        "import matplotlib.pyplot as plt\n",
        "import math"
      ],
      "metadata": {
        "id": "PZprlw53xFGC"
      },
      "execution_count": 1,
      "outputs": []
    },
    {
      "cell_type": "code",
      "source": [
        "def triangular(a, b, c, n): # Definir la función y generar n repeticiones\n",
        "    lista = []\n",
        "    for i in range(n):\n",
        "        U = rnd.random()\n",
        "        y = (b-a)/(c-a)\n",
        "        if 0 <= U <= y:\n",
        "            X = a + ((b - a)*(c - a)*U)**(1/2)\n",
        "        else:\n",
        "            X = c - ((c - b)*(c - a)*(1 - U))**(1/2)\n",
        "        lista.append(X)\n",
        "    return lista"
      ],
      "metadata": {
        "id": "UibtLstmxHcR"
      },
      "execution_count": 2,
      "outputs": []
    },
    {
      "cell_type": "code",
      "source": [
        "# Inicializar contador para las sumas menores a 1000\n",
        "contador = 0\n",
        "total_iteraciones = 1000\n",
        "\n",
        "# Repetir el proceso n veces\n",
        "for i in range(total_iteraciones):\n",
        "    muestras = triangular(190, 210, 230, 5)\n",
        "    suma = sum(muestras)\n",
        "    if suma >= 1000:\n",
        "        contador += 1\n",
        "\n",
        "# Calcular la probabilidad\n",
        "probabilidad = contador / total_iteraciones\n",
        "print(\"Número de veces que el peso de las tinas excede la capacidad del camión:\", contador)\n",
        "print(\"P(suma x >= 1000)=\", probabilidad)"
      ],
      "metadata": {
        "colab": {
          "base_uri": "https://localhost:8080/"
        },
        "id": "89XvQoeJ7qon",
        "outputId": "44fb28a4-0b83-42a1-8dce-6b7edbd7da86"
      },
      "execution_count": 3,
      "outputs": [
        {
          "output_type": "stream",
          "name": "stdout",
          "text": [
            "Número de veces que el peso de las tinas excede la capacidad del camión: 998\n",
            "P(suma x >= 1000)= 0.998\n"
          ]
        }
      ]
    },
    {
      "cell_type": "code",
      "source": [
        "G = triangular(190, 210, 230, 10000) # Obtención de media, varianza y mediana\n",
        "media = np.mean(G)\n",
        "varianza = np.var(G)\n",
        "mediana = np.median(G)\n",
        "print(f'Mediana: {mediana}')\n",
        "print(f'Media: {media}')\n",
        "print(f'Varianza: {varianza}')"
      ],
      "metadata": {
        "colab": {
          "base_uri": "https://localhost:8080/"
        },
        "id": "tItxtcr36EX_",
        "outputId": "6d7ffade-1afc-4e6b-b777-f1c767f6bd78"
      },
      "execution_count": 4,
      "outputs": [
        {
          "output_type": "stream",
          "name": "stdout",
          "text": [
            "Mediana: 210.04420472161914\n",
            "Media: 210.0483733993799\n",
            "Varianza: 65.55981823983362\n"
          ]
        }
      ]
    },
    {
      "cell_type": "code",
      "source": [
        "# Generación del grafico de la función de distribución\n",
        "plt.hist(G, bins=30, density=True, alpha=0.6, color='b')\n",
        "plt.axvline(media, color='r', linestyle='--', label=f'Media: {media:.2f}') # Media\n",
        "plt.axvline(mediana, color='g', linestyle='--', label=f'Mediana: {mediana:.2f}') # Mediana\n",
        "\n",
        "plt.xlabel('Valor')\n",
        "plt.ylabel('Densidad de probabilidad')\n",
        "plt.title('Histograma de variables aleatorias exponenciales')\n",
        "plt.legend()\n",
        "\n",
        "plt.tight_layout()\n",
        "\n",
        "plt.tight_layout()\n",
        "plt.show()"
      ],
      "metadata": {
        "colab": {
          "base_uri": "https://localhost:8080/",
          "height": 259
        },
        "id": "O7XZHI386RGp",
        "outputId": "f281ba23-a896-40b5-c786-7de68e5d4ad9"
      },
      "execution_count": 5,
      "outputs": [
        {
          "output_type": "display_data",
          "data": {
            "text/plain": [
              "<Figure size 640x480 with 1 Axes>"
            ],
            "image/png": "[encoded data removed]"
          },
          "metadata": {}
        }
      ]
    },
    {
      "cell_type": "markdown",
      "source": [
        "**2.- Analice la conveniencia de adquirir un nuevo camión. Para tal propósito, suponga que cada vez que la capacidad del camión es excedida una tina es enviada a través de otra compañía a un costo de \\$200. También suponga que el costo promedio anual de un nuevo camión es de \\$60,000. Si se trabaja 5 días a la semana y 52 semanas al año, ¿cuál de las dos alternativas mencionadas es la más atractiva?**"
      ],
      "metadata": {
        "id": "7fcRYJ0u5eiu"
      }
    },
    {
      "cell_type": "markdown",
      "source": [
        "**Solución analitica**\n",
        "\n",
        "Dado que solo se laboran 5 días a la semana y son 52 semanas por año, entonces, tomamos en cuenta 260 días habiles.\n",
        "\n",
        "La probabilidad de que el peso de las tinas exceda la capacidad del camión es del $99.69\\%$, así\n",
        "\n",
        "$$\n",
        "260días*0.9969*\\$200=\\$51838.8\n",
        "$$\n",
        "\n",
        "Finalmente, en un año se gastan $51838.8 en enviar tinas a otra compañia, esto es menor al costo de un nuevo camion, por lo tanto la mejor alternativa es seguir pagando por los excedentes."
      ],
      "metadata": {
        "id": "G-9Wc_8D5wP5"
      }
    },
    {
      "cell_type": "markdown",
      "source": [
        "**Simulación**"
      ],
      "metadata": {
        "id": "ASrh0-Ga52ft"
      }
    },
    {
      "cell_type": "code",
      "source": [
        "# Realizamos el analizis para un año\n",
        "contador = 0\n",
        "total_iteraciones = 5*52\n",
        "\n",
        "# Repetir el proceso n veces\n",
        "for i in range(total_iteraciones):\n",
        "    muestras = triangular(190, 210, 230, 5)\n",
        "    suma = sum(muestras)\n",
        "    if suma >= 1000:\n",
        "        contador += 1\n",
        "\n",
        "# Calcular el costo total\n",
        "costo_total = contador * 200\n",
        "print(\"Número de veces que el peso de las tinas excede la capacidad del camión:\", contador)\n",
        "print(\"Costo total por año de enviar una tina a otra compañía: $\", costo_total)"
      ],
      "metadata": {
        "colab": {
          "base_uri": "https://localhost:8080/"
        },
        "id": "PBYtp-5S6tqc",
        "outputId": "78ca0048-e9ba-49b2-fdbe-0f9b8b9db6fe"
      },
      "execution_count": 6,
      "outputs": [
        {
          "output_type": "stream",
          "name": "stdout",
          "text": [
            "Número de veces que el peso de las tinas excede la capacidad del camión: 258\n",
            "Costo total por año de enviar una tina a otra compañía: $ 51600\n"
          ]
        }
      ]
    },
    {
      "cell_type": "code",
      "source": [
        "if costo_total > 60000:\n",
        "    print(\"La segunda alternativa es la más atractiva\")\n",
        "else:\n",
        "    print(\"La primera alternativa es la más atractiva\")"
      ],
      "metadata": {
        "colab": {
          "base_uri": "https://localhost:8080/"
        },
        "id": "Pbk5Pxrt74eQ",
        "outputId": "6d6adb5c-9a72-4296-ab04-92f6c55638dd"
      },
      "execution_count": 7,
      "outputs": [
        {
          "output_type": "stream",
          "name": "stdout",
          "text": [
            "La primera alternativa es la más atractiva\n"
          ]
        }
      ]
    },
    {
      "cell_type": "code",
      "source": [
        "# Analizis para n años\n",
        "total_repeticiones = 100\n",
        "total_iteraciones = 5 * 52\n",
        "costos_totales = []\n",
        "\n",
        "for i in range(total_repeticiones):\n",
        "    contador = 0\n",
        "    for j in range(total_iteraciones):\n",
        "        muestras = triangular(190, 210, 230, 5)\n",
        "        suma = sum(muestras)\n",
        "        if suma >= 1000:\n",
        "            contador += 1\n",
        "\n",
        "    costo_total = contador * 200\n",
        "    costos_totales.append(costo_total)\n",
        "\n",
        "# Estadísticas\n",
        "promedio_costo = sum(costos_totales) / total_repeticiones\n",
        "print(\"Costos totales en cada repetición:\", costos_totales)\n",
        "print(\"Promedio del costo total por año: $\", promedio_costo)\n",
        "\n",
        "if costo_total > 60000:\n",
        "    print(\"La segunda alternativa es la más atractiva\")\n",
        "else:\n",
        "    print(\"La primera alternativa es la más atractiva\")"
      ],
      "metadata": {
        "colab": {
          "base_uri": "https://localhost:8080/"
        },
        "id": "_L_3Kk888gty",
        "outputId": "20f99565-edf4-4171-c72f-b2537196b6f1"
      },
      "execution_count": 8,
      "outputs": [
        {
          "output_type": "stream",
          "name": "stdout",
          "text": [
            "Costos totales en cada repetición: [52000, 51800, 51600, 51800, 51800, 51800, 52000, 51600, 51800, 52000, 52000, 51800, 52000, 52000, 52000, 52000, 52000, 51600, 51800, 52000, 52000, 52000, 51800, 51800, 52000, 51800, 52000, 51800, 51400, 51800, 52000, 51800, 52000, 52000, 52000, 51600, 51800, 51800, 52000, 52000, 51800, 52000, 51800, 52000, 52000, 51800, 52000, 52000, 51600, 51800, 52000, 52000, 52000, 52000, 51800, 51800, 52000, 52000, 51800, 51800, 52000, 52000, 52000, 51800, 52000, 52000, 51600, 52000, 52000, 52000, 52000, 52000, 52000, 52000, 52000, 51800, 51800, 52000, 51600, 52000, 52000, 52000, 51600, 52000, 51800, 51400, 51600, 52000, 52000, 52000, 52000, 51600, 51800, 52000, 52000, 51600, 52000, 52000, 52000, 52000]\n",
            "Promedio del costo total por año: $ 51888.0\n",
            "La primera alternativa es la más atractiva\n"
          ]
        }
      ]
    }
  ]
}