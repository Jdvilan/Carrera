{
  "nbformat": 4,
  "nbformat_minor": 0,
  "metadata": {
    "colab": {
      "provenance": [],
      "authorship_tag": "ABX9TyO2PuQEo3F/Fh0k64KZ4pxJ"
    },
    "kernelspec": {
      "name": "python3",
      "display_name": "Python 3"
    },
    "language_info": {
      "name": "python"
    }
  },
  "cells": [
    {
      "cell_type": "markdown",
      "source": [
        "Una empresa desea evaluar si hay diferencias en el desempeño de empleados provenientes de tres diferentes programas de capacitación: Grupo X, Grupo Y y Grupo Z. Se evalúa el desempeño con una calificación final (sobre 100 puntos) después de un mes de trabajo.\n",
        "\n",
        "Los datos recolectados para cada grupo son los siguientes:\n",
        "* Grupo X: 12 empleados\n",
        "* Grupo Y: 15 empleados\n",
        "* Grupo Z: 10 empleados\n",
        "\n",
        "Cada grupo tiene un conjunto de calificaciones individuales.\n",
        "\n",
        "**Objetivo:** Determinar si existen diferencias significativas en el promedio de desempeño entre los tres programas de capacitación utilizando un análisis ANOVA de un factor.\n",
        "\n",
        "1. Hipótesis:\n",
        "$$H_0: \\mu_X=\\mu_Y=\\mu_Z$$\n",
        "$$H_a: \\mu_i\\neq\\mu_j,\\hspace{0.5cm}\\forall i\\neq j$$"
      ],
      "metadata": {
        "id": "HS8TuOhqJpFn"
      }
    },
    {
      "cell_type": "code",
      "source": [
        "import pandas as pd\n",
        "import scipy.stats as stats\n",
        "import statsmodels.api as sm\n",
        "from statsmodels.formula.api import ols\n",
        "from statsmodels.stats.multicomp import pairwise_tukeyhsd"
      ],
      "metadata": {
        "id": "Jj6TXYBjLeUW"
      },
      "execution_count": 2,
      "outputs": []
    },
    {
      "cell_type": "code",
      "source": [
        "# 2.Estadísticas descriptivas:\n",
        "# a) Calcula la media de cada grupo.\n",
        "\n",
        "# Cargar el archivo Excel\n",
        "df = pd.read_excel(\"datos_anova_desempeno.csv.xlsx\")\n",
        "\n",
        "group_means = df.groupby(\"grupo\")[\"valor\"].mean()\n",
        "global_mean = df[\"valor\"].mean()\n",
        "\n",
        "print(\"Medias por grupo:\\n\", group_means)"
      ],
      "metadata": {
        "colab": {
          "base_uri": "https://localhost:8080/"
        },
        "id": "7r4LlPdmLZcm",
        "outputId": "755edb2c-1a37-4dea-df3d-b3a9ac6a24e7"
      },
      "execution_count": 3,
      "outputs": [
        {
          "output_type": "stream",
          "name": "stdout",
          "text": [
            "Medias por grupo:\n",
            " grupo\n",
            "X    76.479777\n",
            "Y    77.106921\n",
            "Z    77.736647\n",
            "Name: valor, dtype: float64\n"
          ]
        }
      ]
    },
    {
      "cell_type": "code",
      "source": [
        "# b) Calcula la media global.\n",
        "\n",
        "print(\"\\nMedia global:\", global_mean)"
      ],
      "metadata": {
        "colab": {
          "base_uri": "https://localhost:8080/"
        },
        "id": "135576WBL4Gt",
        "outputId": "ac3938dc-7a70-4f0b-e590-5ca002569999"
      },
      "execution_count": 4,
      "outputs": [
        {
          "output_type": "stream",
          "name": "stdout",
          "text": [
            "\n",
            "Media global: 77.07371910813394\n"
          ]
        }
      ]
    },
    {
      "cell_type": "code",
      "source": [
        "# 3.ANOVA:\n",
        "# a) Calcula la Suma de Cuadrados Total (SCT).\n",
        "\n",
        "SCT = ((df[\"valor\"] - global_mean) ** 2).sum()\n",
        "print(\"\\nSCT:\", SCT)"
      ],
      "metadata": {
        "colab": {
          "base_uri": "https://localhost:8080/"
        },
        "id": "HDtZcpGtMJF1",
        "outputId": "38a34d5f-c616-4485-f3d8-f73c9a5fa2a7"
      },
      "execution_count": 5,
      "outputs": [
        {
          "output_type": "stream",
          "name": "stdout",
          "text": [
            "\n",
            "SCT: 647.9979146302204\n"
          ]
        }
      ]
    },
    {
      "cell_type": "code",
      "source": [
        "# b) Calcula la Suma de Cuadrados Entre Grupos (SCE).\n",
        "\n",
        "SCE = sum(\n",
        "    len(df[df[\"grupo\"] == g]) * (mean - global_mean) ** 2\n",
        "    for g, mean in group_means.items()\n",
        ")\n",
        "print(\"SCE:\", SCE)"
      ],
      "metadata": {
        "colab": {
          "base_uri": "https://localhost:8080/"
        },
        "id": "Dp1qKyfmMdWc",
        "outputId": "8cbfa911-8703-4d79-ff68-1e72876950c0"
      },
      "execution_count": 6,
      "outputs": [
        {
          "output_type": "stream",
          "name": "stdout",
          "text": [
            "SCE: 8.644482149304004\n"
          ]
        }
      ]
    },
    {
      "cell_type": "code",
      "source": [
        "# c) Calcula la Suma de Cuadrados Dentro de los Grupos (SCD).\n",
        "\n",
        "SCD = sum(\n",
        "    ((df[df[\"grupo\"] == g][\"valor\"] - mean) ** 2).sum()\n",
        "    for g, mean in group_means.items()\n",
        ")\n",
        "print(\"SCD:\", SCD)"
      ],
      "metadata": {
        "colab": {
          "base_uri": "https://localhost:8080/"
        },
        "id": "vbOHOU-hMqCG",
        "outputId": "1cd4a519-b3a9-46be-e05f-234b8ed964c2"
      },
      "execution_count": 7,
      "outputs": [
        {
          "output_type": "stream",
          "name": "stdout",
          "text": [
            "SCD: 639.3534324809162\n"
          ]
        }
      ]
    },
    {
      "cell_type": "code",
      "source": [
        "# d) Verifica que SCT = SCE + SCD.\n",
        "\n",
        "print(\"Verificación SCT ≈ SCE + SCD:\", SCT - (SCE + SCD))"
      ],
      "metadata": {
        "colab": {
          "base_uri": "https://localhost:8080/"
        },
        "id": "fmTZm6FHM0Ns",
        "outputId": "436ca129-ed70-474a-e3ee-d6b94dcfdd97"
      },
      "execution_count": 8,
      "outputs": [
        {
          "output_type": "stream",
          "name": "stdout",
          "text": [
            "Verificación SCT ≈ SCE + SCD: 1.1368683772161603e-13\n"
          ]
        }
      ]
    },
    {
      "cell_type": "code",
      "source": [
        "# 4.Estadístico F:\n",
        "# a) Calcula los cuadrados medios: MCE y MCD.\n",
        "\n",
        "# Grados de libertad\n",
        "k = df[\"grupo\"].nunique()\n",
        "n = len(df)\n",
        "\n",
        "df_entre = k - 1\n",
        "df_dentro = n - k\n",
        "\n",
        "# Cuadrados medios\n",
        "MCE = SCE / df_entre\n",
        "MCD = SCD / df_dentro\n",
        "print(\"\\nMCE:\", MCE)\n",
        "print(\"MCD:\", MCD)"
      ],
      "metadata": {
        "colab": {
          "base_uri": "https://localhost:8080/"
        },
        "id": "Y1rlwzFUM9fM",
        "outputId": "5c9140f4-4f35-46fd-b0a0-684270dc4844"
      },
      "execution_count": 9,
      "outputs": [
        {
          "output_type": "stream",
          "name": "stdout",
          "text": [
            "\n",
            "MCE: 4.322241074652002\n",
            "MCD: 18.80451272002695\n"
          ]
        }
      ]
    },
    {
      "cell_type": "code",
      "source": [
        "# b) Calcula el estadístico F.\n",
        "\n",
        "F = MCE / MCD\n",
        "print(\"Estadístico F:\", F)"
      ],
      "metadata": {
        "colab": {
          "base_uri": "https://localhost:8080/"
        },
        "id": "MR-oRgXNNN0c",
        "outputId": "9b52142c-4d28-4fa5-be2e-e9319297c5d3"
      },
      "execution_count": 11,
      "outputs": [
        {
          "output_type": "stream",
          "name": "stdout",
          "text": [
            "Estadístico F: 0.22985126703383185\n"
          ]
        }
      ]
    },
    {
      "cell_type": "code",
      "source": [
        "# 5.Decisión estadística:\n",
        "# a) Encuentra el valor crítico o el p-value para el estadístico F.\n",
        "\n",
        "p_value = 1 - stats.f.cdf(F, df_entre, df_dentro)\n",
        "print(\"p-value:\", p_value)"
      ],
      "metadata": {
        "colab": {
          "base_uri": "https://localhost:8080/"
        },
        "id": "r26HVLLkNaHs",
        "outputId": "56ed1450-5347-4fce-9c2a-c2d179e851c1"
      },
      "execution_count": 12,
      "outputs": [
        {
          "output_type": "stream",
          "name": "stdout",
          "text": [
            "p-value: 0.7958764951439442\n"
          ]
        }
      ]
    },
    {
      "cell_type": "code",
      "source": [
        "# b) Compara con el nivel de significancia (α = 0.05). ¿Se rechaza H₀?\n",
        "\n",
        "alpha = 0.05\n",
        "if p_value < alpha:\n",
        "    print(\"\\nSe rechaza H₀: Hay diferencias significativas entre los grupos.\")\n",
        "else:\n",
        "    print(\"\\nNo se rechaza H₀: No hay diferencias significativas entre los grupos.\")"
      ],
      "metadata": {
        "colab": {
          "base_uri": "https://localhost:8080/"
        },
        "id": "u5H63ewcNvy9",
        "outputId": "41151f22-049f-402f-fa1a-d6d1a1b376b4"
      },
      "execution_count": 13,
      "outputs": [
        {
          "output_type": "stream",
          "name": "stdout",
          "text": [
            "\n",
            "No se rechaza H₀: No hay diferencias significativas entre los grupos.\n"
          ]
        }
      ]
    },
    {
      "cell_type": "markdown",
      "source": [
        "6. Interpretación:\n",
        "\n",
        "a) ¿Qué concluyes sobre los programas de capacitación?\n",
        "\n",
        "\n",
        "b) ¿Cuál(es) parecen ser más efectivos?"
      ],
      "metadata": {
        "id": "4lR5lE_GOKEL"
      }
    },
    {
      "cell_type": "code",
      "source": [
        "# 7.Análisis post-hoc (Tukey HSD):\n",
        "# a) Realiza la prueba de Tukey para comparar pares de grupos.\n",
        "\n",
        "# ANOVA usando statsmodels (para Tukey)\n",
        "modelo = ols('valor ~ grupo', data=df).fit()\n",
        "anova_table = sm.stats.anova_lm(modelo, typ=2)\n",
        "print(\"\\nTabla ANOVA con statsmodels:\\n\", anova_table)\n",
        "\n",
        "# Tukey HSD (post-hoc)\n",
        "tukey = pairwise_tukeyhsd(endog=df['valor'], groups=df['grupo'], alpha=0.05)\n",
        "print(\"\\nResultado de la prueba de Tukey HSD:\\n\")\n",
        "print(tukey)"
      ],
      "metadata": {
        "colab": {
          "base_uri": "https://localhost:8080/"
        },
        "id": "1qvhOA6fODt9",
        "outputId": "cdc26c1c-b011-48e9-d2d5-ba37f9d5acb1"
      },
      "execution_count": 15,
      "outputs": [
        {
          "output_type": "stream",
          "name": "stdout",
          "text": [
            "\n",
            "Tabla ANOVA con statsmodels:\n",
            "               sum_sq    df         F    PR(>F)\n",
            "grupo       8.644482   2.0  0.229851  0.795876\n",
            "Residual  639.353432  34.0       NaN       NaN\n",
            "\n",
            "Resultado de la prueba de Tukey HSD:\n",
            "\n",
            "Multiple Comparison of Means - Tukey HSD, FWER=0.05\n",
            "===================================================\n",
            "group1 group2 meandiff p-adj   lower  upper  reject\n",
            "---------------------------------------------------\n",
            "     X      Y   0.6271 0.9262 -3.4883 4.7426  False\n",
            "     X      Z   1.2569 0.7784  -3.293 5.8067  False\n",
            "     Y      Z   0.6297 0.9328 -3.7084 4.9678  False\n",
            "---------------------------------------------------\n"
          ]
        }
      ]
    },
    {
      "cell_type": "markdown",
      "source": [
        "b) Indica qué diferencias entre pares son significativas."
      ],
      "metadata": {
        "id": "xMWiR1kNO4wD"
      }
    },
    {
      "cell_type": "markdown",
      "source": [
        "Según los resultados, ¿qué programa recomendarías a la empresa como el más efectivo en promedio para formar empleados?"
      ],
      "metadata": {
        "id": "QW4A9q-FO7sj"
      }
    }
  ]
}