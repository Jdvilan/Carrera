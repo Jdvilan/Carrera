{
  "nbformat": 4,
  "nbformat_minor": 0,
  "metadata": {
    "colab": {
      "provenance": [],
      "authorship_tag": "ABX9TyMdObOLfY1gSj2shIyI9Po8"
    },
    "kernelspec": {
      "name": "python3",
      "display_name": "Python 3"
    },
    "language_info": {
      "name": "python"
    }
  },
  "cells": [
    {
      "cell_type": "markdown",
      "source": [
        "Los tornillos que produce una empresa saldrán detectuosos con probabilidad de 0.01 independiente uno de otro. La empresa vende los tornillos en cajas de 10 tornillos y garantiza una devolución del dinero o reemplaza la caja al comprador si, a lo más 1 de los 10 tornillos es defectuoso. ¿Que proporción de cajas vendidas deberá reembolsar o reemplazar?"
      ],
      "metadata": {
        "id": "wUGqmVwI4TCt"
      }
    },
    {
      "cell_type": "markdown",
      "source": [
        "***Solución Analítica***\n",
        "\n",
        "**Datos:**\n",
        "\n",
        "Cada tornillo tiene una probabilidad de ser defectuoso p=0.01\n",
        "\n",
        "La caja contiene n=10 tornillos\n",
        "\n",
        "Si hay 2 o más tornillos defectuosos la empresa debe reemplazarla\n",
        "\n",
        "**Procedimiento:**\n",
        "\n",
        "Sea X la variable aleatoria que define el número de tornillos defectuosos en una caja de 10.\n",
        "$$X\\sim B(n=10, p=0.01)$$\n",
        "\n",
        "**Solución:**\n",
        "\n",
        "$$P(X\\geq 2)=1-[P(X=0)+P(X=1)]=1-\\left(\\frac{10!}{0!(10-0)!}(0.01)^0(1-0.01)^{10-0}+\\frac{10!}{1!(10-1)!}(0.01)^1(1-0.01)^{10-1}\\right)$$\n",
        "\n",
        "$$=1-(0.9044+0.0913)=1-0.9957=0.0043$$\n",
        "\n",
        "La empresa deberá reemplazar o reembolsar aproximadamente el 0.43% de las cajas vendidas."
      ],
      "metadata": {
        "id": "hwt-jpUt4fDi"
      }
    },
    {
      "cell_type": "code",
      "execution_count": 1,
      "metadata": {
        "colab": {
          "base_uri": "https://localhost:8080/"
        },
        "id": "e_EYoAb-3za8",
        "outputId": "8ebff568-2506-4360-986d-70301a52ee2b"
      },
      "outputs": [
        {
          "output_type": "stream",
          "name": "stdout",
          "text": [
            "Proporción de cajas que deben reembolsarse o reemplazarse: 0.0043\n"
          ]
        }
      ],
      "source": [
        "from scipy.stats import binom\n",
        "\n",
        "# Parámetros\n",
        "n = 10         # Número de tornillos por caja\n",
        "p = 0.01       # Probabilidad de que un tornillo sea defectuoso\n",
        "\n",
        "# Probabilidad de que haya 0 o 1 tornillo defectuoso\n",
        "prob_0_1 = binom.cdf(1, n, p)\n",
        "\n",
        "# Probabilidad de que haya 2 o más (se necesita reembolso o reemplazo)\n",
        "prob_reemplazo = 1 - prob_0_1\n",
        "\n",
        "# Mostrar resultados\n",
        "print(f\"Proporción de cajas que deben reembolsarse o reemplazarse: {prob_reemplazo:.4f}\")"
      ]
    }
  ]
}