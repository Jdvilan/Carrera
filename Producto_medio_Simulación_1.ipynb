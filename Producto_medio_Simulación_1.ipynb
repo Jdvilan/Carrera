{
  "nbformat": 4,
  "nbformat_minor": 0,
  "metadata": {
    "colab": {
      "provenance": [],
      "authorship_tag": "ABX9TyM8+Y1e1ywFY0BeWuLLfWRM"
    },
    "kernelspec": {
      "name": "python3",
      "display_name": "Python 3"
    },
    "language_info": {
      "name": "python"
    }
  },
  "cells": [
    {
      "cell_type": "markdown",
      "source": [
        "**Producto medio**"
      ],
      "metadata": {
        "id": "nLoFWJ7zxMre"
      }
    },
    {
      "cell_type": "code",
      "source": [
        "#Generamos dos números aleatorios de 3 cifras\n",
        "import random\n",
        "x = random.randint(100, 999)\n",
        "y = random.randint(100, 999)\n",
        "print(x)\n",
        "print(y)"
      ],
      "metadata": {
        "colab": {
          "base_uri": "https://localhost:8080/"
        },
        "id": "CcL3-7jixTJ3",
        "outputId": "5f42cb6c-0b0c-4c96-f059-214104147547"
      },
      "execution_count": null,
      "outputs": [
        {
          "output_type": "stream",
          "name": "stdout",
          "text": [
            "636\n",
            "376\n"
          ]
        }
      ]
    },
    {
      "cell_type": "code",
      "source": [
        "\n",
        "#Multiplicamos ambos números\n",
        "x0 = x*y\n",
        "print(x0)"
      ],
      "metadata": {
        "colab": {
          "base_uri": "https://localhost:8080/"
        },
        "id": "L6SxaCdtx3Eb",
        "outputId": "a244e49b-1856-4b4b-9273-1c837b11c243"
      },
      "execution_count": null,
      "outputs": [
        {
          "output_type": "stream",
          "name": "stdout",
          "text": [
            "239136\n"
          ]
        }
      ]
    },
    {
      "cell_type": "code",
      "source": [
        "#Tomamos los 3 dígitos centrales\n",
        "num = str(x0)\n",
        "print(num[1:4])"
      ],
      "metadata": {
        "colab": {
          "base_uri": "https://localhost:8080/"
        },
        "id": "dacHUg9nyQ8d",
        "outputId": "acb5896c-c69a-42aa-a489-c55cfb0fa3a5"
      },
      "execution_count": null,
      "outputs": [
        {
          "output_type": "stream",
          "name": "stdout",
          "text": [
            "391\n"
          ]
        }
      ]
    }
  ]
}