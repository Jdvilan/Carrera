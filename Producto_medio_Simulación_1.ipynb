{
  "nbformat": 4,
  "nbformat_minor": 0,
  "metadata": {
    "colab": {
      "provenance": []
    },
    "kernelspec": {
      "name": "python3",
      "display_name": "Python 3"
    },
    "language_info": {
      "name": "python"
    }
  },
  "cells": [
    {
      "cell_type": "markdown",
      "source": [
        "**Producto medio**"
      ],
      "metadata": {
        "id": "nLoFWJ7zxMre"
      }
    },
    {
      "cell_type": "code",
      "source": [
        "from prettytable import PrettyTable\n",
        "\n",
        "# Generar dos semillas iniciales de 3 dígitos\n",
        "x = int(input('Ingresa un número de tres digitos: '))\n",
        "y = int(input('Ingresa un segundo número de tres digitos: '))\n",
        "\n",
        "# Configurar la tabla\n",
        "tabla = PrettyTable([\"Iteración\", \"x\", \"y\", \"x*y\", \"Nueva Semilla\"])\n",
        "\n",
        "# Generar números pseudoaleatorios\n",
        "for i in range(30):\n",
        "    x0 = x * y\n",
        "    num = str(x0)\n",
        "    nueva_semilla = int(num[1:4])\n",
        "\n",
        "    # Agregar fila a la tabla\n",
        "    tabla.add_row([i + 1, x, y, x0, nueva_semilla])\n",
        "\n",
        "    # Actualizar las semillas para la siguiente iteración\n",
        "    x, y = nueva_semilla, x\n",
        "\n",
        "# Imprimir la tabla\n",
        "print(tabla)"
      ],
      "metadata": {
        "id": "HzqtTNu2xcF0",
        "outputId": "a543af63-d04b-4259-f874-e8d27e7b7161",
        "colab": {
          "base_uri": "https://localhost:8080/"
        }
      },
      "execution_count": null,
      "outputs": [
        {
          "output_type": "stream",
          "name": "stdout",
          "text": [
            "Ingresa un número de tres digitos: 646\n",
            "Ingresa un segundo número de tres digitos: 183\n",
            "+-----------+-----+-----+--------+---------------+\n",
            "| Iteración |  x  |  y  |  x*y   | Nueva Semilla |\n",
            "+-----------+-----+-----+--------+---------------+\n",
            "|     1     | 646 | 183 | 118218 |      182      |\n",
            "|     2     | 182 | 646 | 117572 |      175      |\n",
            "|     3     | 175 | 182 | 31850  |      185      |\n",
            "|     4     | 185 | 175 | 32375  |      237      |\n",
            "|     5     | 237 | 185 | 43845  |      384      |\n",
            "|     6     | 384 | 237 | 91008  |      100      |\n",
            "|     7     | 100 | 384 | 38400  |      840      |\n",
            "|     8     | 840 | 100 | 84000  |      400      |\n",
            "|     9     | 400 | 840 | 336000 |      360      |\n",
            "|     10    | 360 | 400 | 144000 |      440      |\n",
            "|     11    | 440 | 360 | 158400 |      584      |\n",
            "|     12    | 584 | 440 | 256960 |      569      |\n",
            "|     13    | 569 | 584 | 332296 |      322      |\n",
            "|     14    | 322 | 569 | 183218 |      832      |\n",
            "|     15    | 832 | 322 | 267904 |      679      |\n",
            "|     16    | 679 | 832 | 564928 |      649      |\n",
            "|     17    | 649 | 679 | 440671 |      406      |\n",
            "|     18    | 406 | 649 | 263494 |      634      |\n",
            "|     19    | 634 | 406 | 257404 |      574      |\n",
            "|     20    | 574 | 634 | 363916 |      639      |\n",
            "|     21    | 639 | 574 | 366786 |      667      |\n",
            "|     22    | 667 | 639 | 426213 |      262      |\n",
            "|     23    | 262 | 667 | 174754 |      747      |\n",
            "|     24    | 747 | 262 | 195714 |      957      |\n",
            "|     25    | 957 | 747 | 714879 |      148      |\n",
            "|     26    | 148 | 957 | 141636 |      416      |\n",
            "|     27    | 416 | 148 | 61568  |      156      |\n",
            "|     28    | 156 | 416 | 64896  |      489      |\n",
            "|     29    | 489 | 156 | 76284  |      628      |\n",
            "|     30    | 628 | 489 | 307092 |       70      |\n",
            "+-----------+-----+-----+--------+---------------+\n"
          ]
        }
      ]
    }
  ]
}