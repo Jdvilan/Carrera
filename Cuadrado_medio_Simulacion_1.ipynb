{
  "nbformat": 4,
  "nbformat_minor": 0,
  "metadata": {
    "colab": {
      "provenance": [],
      "authorship_tag": "ABX9TyPwN5JyGIB8nGwpSSBX4iTN"
    },
    "kernelspec": {
      "name": "python3",
      "display_name": "Python 3"
    },
    "language_info": {
      "name": "python"
    }
  },
  "cells": [
    {
      "cell_type": "markdown",
      "source": [
        "**Cuadrado medio**"
      ],
      "metadata": {
        "id": "p3_JF4ZnKDco"
      }
    },
    {
      "cell_type": "code",
      "source": [
        "#Generamos un numero aleatorio de 4 cifras\n",
        "import random\n",
        "x = random.randint(1000, 9999)\n",
        "print(x)"
      ],
      "metadata": {
        "colab": {
          "base_uri": "https://localhost:8080/"
        },
        "id": "U-4mdtwEKMOh",
        "outputId": "b37c7089-3df9-4b4b-9100-2dcd6bc4af89"
      },
      "execution_count": 16,
      "outputs": [
        {
          "output_type": "stream",
          "name": "stdout",
          "text": [
            "4416\n"
          ]
        }
      ]
    },
    {
      "cell_type": "code",
      "source": [
        "#Elevamos el numero al cuadrado\n",
        "x0 = x**2\n",
        "print(x0)\n"
      ],
      "metadata": {
        "colab": {
          "base_uri": "https://localhost:8080/"
        },
        "id": "X9oQ6G3yLuTp",
        "outputId": "d58b3f73-3015-47d7-e6f8-2873d92265fd"
      },
      "execution_count": 17,
      "outputs": [
        {
          "output_type": "stream",
          "name": "stdout",
          "text": [
            "19501056\n"
          ]
        }
      ]
    },
    {
      "cell_type": "code",
      "source": [
        "#Tomamos el cuadrado medio\n",
        "num = str(x0)\n",
        "if len(str(x0)) % 2 == 0:\n",
        "  print(num[2:6])\n",
        "else:\n",
        "  print(num[1:5])"
      ],
      "metadata": {
        "colab": {
          "base_uri": "https://localhost:8080/"
        },
        "id": "-OHPukx2MHBy",
        "outputId": "9cf37b44-99a9-44eb-d44d-338f7c46e7ae"
      },
      "execution_count": 18,
      "outputs": [
        {
          "output_type": "stream",
          "name": "stdout",
          "text": [
            "5010\n"
          ]
        }
      ]
    },
    {
      "cell_type": "code",
      "source": [
        "import random\n",
        "\n",
        "# Generar una semilla inicial de 4 dígitos\n",
        "x = random.randint(1000, 9999)\n",
        "\n",
        "# Generar 10 números pseudoaleatorios\n",
        "for i in range(30):\n",
        "    x0 = x ** 2\n",
        "    num = str(x0)\n",
        "\n",
        "    # Tomar un segmento específico dependiendo de si la longitud es par o impar\n",
        "    if len(num) % 2 == 0:\n",
        "        nueva_semilla = int(num[2:6])\n",
        "    else:\n",
        "        nueva_semilla = int(num[1:5])\n",
        "\n",
        "    # Imprimir la nueva semilla y actualizar para la siguiente iteración\n",
        "    print(nueva_semilla)\n",
        "    x = nueva_semilla"
      ],
      "metadata": {
        "colab": {
          "base_uri": "https://localhost:8080/"
        },
        "id": "45HTLsmHSPab",
        "outputId": "527814dc-aca1-4129-c087-65f1308bf076"
      },
      "execution_count": 35,
      "outputs": [
        {
          "output_type": "stream",
          "name": "stdout",
          "text": [
            "6262\n",
            "2126\n",
            "5198\n",
            "192\n",
            "6864\n",
            "1144\n",
            "3087\n",
            "5295\n",
            "370\n",
            "6900\n",
            "6100\n",
            "2100\n",
            "4100\n",
            "8100\n",
            "6100\n",
            "2100\n",
            "4100\n",
            "8100\n",
            "6100\n",
            "2100\n",
            "4100\n",
            "8100\n",
            "6100\n",
            "2100\n",
            "4100\n",
            "8100\n",
            "6100\n",
            "2100\n",
            "4100\n",
            "8100\n"
          ]
        }
      ]
    },
    {
      "cell_type": "code",
      "source": [
        "import random\n",
        "from prettytable import PrettyTable\n",
        "\n",
        "# Generar una semilla inicial de 4 dígitos\n",
        "x = random.randint(1000, 9999)\n",
        "print(\"Semilla Inicial:\", x)\n",
        "\n",
        "# Configurar la tabla\n",
        "tabla = PrettyTable([\"Iteración\", \"x\", \"x^2\", \"Nueva Semilla\"])\n",
        "\n",
        "# Generar 30 números pseudoaleatorios\n",
        "for i in range(30):\n",
        "    x0 = x ** 2\n",
        "    num = str(x0)\n",
        "\n",
        "    # Tomar un segmento específico dependiendo de si la longitud es par o impar\n",
        "    if len(num) % 2 == 0:\n",
        "        nueva_semilla = int(num[2:6])\n",
        "    else:\n",
        "        nueva_semilla = int(num[1:5])\n",
        "\n",
        "    # Agregar fila a la tabla\n",
        "    tabla.add_row([i + 1, x, x0, nueva_semilla])\n",
        "\n",
        "    # Actualizar la semilla para la siguiente iteración\n",
        "    x = nueva_semilla\n",
        "\n",
        "# Imprimir la tabla\n",
        "print(tabla)"
      ],
      "metadata": {
        "id": "Cf53XhAxs2YZ",
        "outputId": "5b359fb2-0714-4c1b-96c1-8c6611dc0086",
        "colab": {
          "base_uri": "https://localhost:8080/"
        }
      },
      "execution_count": 36,
      "outputs": [
        {
          "output_type": "stream",
          "name": "stdout",
          "text": [
            "Semilla Inicial: 3961\n",
            "+-----------+------+----------+---------------+\n",
            "| Iteración |  x   |   x^2    | Nueva Semilla |\n",
            "+-----------+------+----------+---------------+\n",
            "|     1     | 3961 | 15689521 |      6895     |\n",
            "|     2     | 6895 | 47541025 |      5410     |\n",
            "|     3     | 5410 | 29268100 |      2681     |\n",
            "|     4     | 2681 | 7187761  |      1877     |\n",
            "|     5     | 1877 | 3523129  |      5231     |\n",
            "|     6     | 5231 | 27363361 |      3633     |\n",
            "|     7     | 3633 | 13198689 |      1986     |\n",
            "|     8     | 1986 | 3944196  |      9441     |\n",
            "|     9     | 9441 | 89132481 |      1324     |\n",
            "|     10    | 1324 | 1752976  |      7529     |\n",
            "|     11    | 7529 | 56685841 |      6858     |\n",
            "|     12    | 6858 | 47032164 |      321      |\n",
            "|     13    | 321  |  103041  |      3041     |\n",
            "|     14    | 3041 | 9247681  |      2476     |\n",
            "|     15    | 2476 | 6130576  |      1305     |\n",
            "|     16    | 1305 | 1703025  |      7030     |\n",
            "|     17    | 7030 | 49420900 |      4209     |\n",
            "|     18    | 4209 | 17715681 |      7156     |\n",
            "|     19    | 7156 | 51208336 |      2083     |\n",
            "|     20    | 2083 | 4338889  |      3388     |\n",
            "|     21    | 3388 | 11478544 |      4785     |\n",
            "|     22    | 4785 | 22896225 |      8962     |\n",
            "|     23    | 8962 | 80317444 |      3174     |\n",
            "|     24    | 3174 | 10074276 |      742      |\n",
            "|     25    | 742  |  550564  |      564      |\n",
            "|     26    | 564  |  318096  |      8096     |\n",
            "|     27    | 8096 | 65545216 |      5452     |\n",
            "|     28    | 5452 | 29724304 |      7243     |\n",
            "|     29    | 7243 | 52461049 |      4610     |\n",
            "|     30    | 4610 | 21252100 |      2521     |\n",
            "+-----------+------+----------+---------------+\n"
          ]
        }
      ]
    }
  ]
}