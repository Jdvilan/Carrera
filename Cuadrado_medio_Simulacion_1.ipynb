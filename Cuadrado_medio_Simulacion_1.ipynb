{
  "nbformat": 4,
  "nbformat_minor": 0,
  "metadata": {
    "colab": {
      "provenance": [],
      "authorship_tag": "ABX9TyOzrtKIaAbkxpjPsutUwUR8"
    },
    "kernelspec": {
      "name": "python3",
      "display_name": "Python 3"
    },
    "language_info": {
      "name": "python"
    }
  },
  "cells": [
    {
      "cell_type": "markdown",
      "source": [
        "**Cuadrado medio**"
      ],
      "metadata": {
        "id": "p3_JF4ZnKDco"
      }
    },
    {
      "cell_type": "code",
      "source": [
        "#Generamos un numero aleatorio de 4 cifras\n",
        "import random\n",
        "x = random.randint(1000, 9999)\n",
        "print(x)"
      ],
      "metadata": {
        "colab": {
          "base_uri": "https://localhost:8080/"
        },
        "id": "U-4mdtwEKMOh",
        "outputId": "665a705d-00be-4d00-efe4-1def59aaf13c"
      },
      "execution_count": 17,
      "outputs": [
        {
          "output_type": "stream",
          "name": "stdout",
          "text": [
            "4353\n"
          ]
        }
      ]
    },
    {
      "cell_type": "code",
      "source": [
        "#Elevamos el numero al cuadrado\n",
        "x0 = x**2\n",
        "print(x0)\n"
      ],
      "metadata": {
        "colab": {
          "base_uri": "https://localhost:8080/"
        },
        "id": "X9oQ6G3yLuTp",
        "outputId": "8b48203c-0377-4fb3-c305-e01af10bd1d8"
      },
      "execution_count": 18,
      "outputs": [
        {
          "output_type": "stream",
          "name": "stdout",
          "text": [
            "18948609\n"
          ]
        }
      ]
    },
    {
      "cell_type": "code",
      "source": [
        "#Tomamos el cuadrado medio\n",
        "num = str(x0)\n",
        "if len(str(x0)) % 2 == 0:\n",
        "  print(num[2:6])\n",
        "else:\n",
        "  print(num[1:5])"
      ],
      "metadata": {
        "colab": {
          "base_uri": "https://localhost:8080/"
        },
        "id": "-OHPukx2MHBy",
        "outputId": "d9bdd447-0325-4124-cbdb-0dd7e81bc0d3"
      },
      "execution_count": 19,
      "outputs": [
        {
          "output_type": "stream",
          "name": "stdout",
          "text": [
            "9486\n"
          ]
        }
      ]
    },
    {
      "cell_type": "code",
      "source": [
        "x = random.randint(1000, 9999)\n",
        "print(x)\n",
        "n = 2\n",
        "cuadrado = []\n",
        "for i in range(n):\n",
        "    x0 = x**2\n",
        "    print(x0)\n",
        "    num = str(x0)\n",
        "    if len(str(x0)) % 2 == 0:\n",
        "      cuadrado = num[2:6]\n",
        "      print(cuadrado)\n",
        "    else:\n",
        "      cuadrado = num[1:5]\n",
        "      print(cuadrado)\n"
      ],
      "metadata": {
        "colab": {
          "base_uri": "https://localhost:8080/"
        },
        "id": "45HTLsmHSPab",
        "outputId": "de58dd12-0f56-40da-f397-7fe2ded6e8c0"
      },
      "execution_count": 27,
      "outputs": [
        {
          "output_type": "stream",
          "name": "stdout",
          "text": [
            "5138\n",
            "26399044\n",
            "3990\n",
            "26399044\n",
            "3990\n"
          ]
        }
      ]
    }
  ]
}