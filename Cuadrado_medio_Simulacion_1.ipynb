{
  "nbformat": 4,
  "nbformat_minor": 0,
  "metadata": {
    "colab": {
      "provenance": [],
      "authorship_tag": "ABX9TyPDYCTHmAh/4F3pEDUKRkgl"
    },
    "kernelspec": {
      "name": "python3",
      "display_name": "Python 3"
    },
    "language_info": {
      "name": "python"
    }
  },
  "cells": [
    {
      "cell_type": "markdown",
      "source": [
        "**Cuadrado medio**"
      ],
      "metadata": {
        "id": "p3_JF4ZnKDco"
      }
    },
    {
      "cell_type": "code",
      "source": [
        "from prettytable import PrettyTable\n",
        "\n",
        "# Solicitamos al usuario una semilla de 4 digitos\n",
        "x = int(input(\"Ingresa un número de cuatro digitos: \"))\n",
        "\n",
        "# Configuramos la tabla\n",
        "tabla = PrettyTable([\"Iteración\", \"x\", \"x^2\", \"Nueva Semilla\"])\n",
        "\n",
        "# Generamos 30 números pseudoaleatorios\n",
        "for i in range(30):\n",
        "    x0 = x ** 2\n",
        "    num = str(x0)\n",
        "\n",
        "    # Agregamos ceros a la izquierda si el número tiene menos de 8 dígitos\n",
        "    while len(num) < 8:\n",
        "        num = '0' + num\n",
        "\n",
        "    # Tomamos un segmento específico dependiendo de si la longitud es par o impar\n",
        "    if len(num) % 2 == 0:\n",
        "        nueva_semilla = int(num[2:6])\n",
        "    else:\n",
        "        nueva_semilla = int(num[0:4])\n",
        "\n",
        "    # Agregar fila a la tabla\n",
        "    tabla.add_row([i + 1, x, x0, nueva_semilla])\n",
        "\n",
        "    # Actualizar la semilla para la siguiente iteración\n",
        "    x = nueva_semilla\n",
        "\n",
        "print(tabla)"
      ],
      "metadata": {
        "colab": {
          "base_uri": "https://localhost:8080/"
        },
        "id": "vCHMe0btudHP",
        "outputId": "0e33dc8b-0ae5-4627-b277-95b7d0500152"
      },
      "execution_count": 8,
      "outputs": [
        {
          "output_type": "stream",
          "name": "stdout",
          "text": [
            "Ingresa un número de cuatro digitos: 2264\n",
            "+-----------+------+----------+---------------+\n",
            "| Iteración |  x   |   x^2    | Nueva Semilla |\n",
            "+-----------+------+----------+---------------+\n",
            "|     1     | 2264 | 5125696  |      1256     |\n",
            "|     2     | 1256 | 1577536  |      5775     |\n",
            "|     3     | 5775 | 33350625 |      3506     |\n",
            "|     4     | 3506 | 12292036 |      2920     |\n",
            "|     5     | 2920 | 8526400  |      5264     |\n",
            "|     6     | 5264 | 27709696 |      7096     |\n",
            "|     7     | 7096 | 50353216 |      3532     |\n",
            "|     8     | 3532 | 12475024 |      4750     |\n",
            "|     9     | 4750 | 22562500 |      5625     |\n",
            "|     10    | 5625 | 31640625 |      6406     |\n",
            "|     11    | 6406 | 41036836 |      368      |\n",
            "|     12    | 368  |  135424  |      1354     |\n",
            "|     13    | 1354 | 1833316  |      8333     |\n",
            "|     14    | 8333 | 69438889 |      4388     |\n",
            "|     15    | 4388 | 19254544 |      2545     |\n",
            "|     16    | 2545 | 6477025  |      4770     |\n",
            "|     17    | 4770 | 22752900 |      7529     |\n",
            "|     18    | 7529 | 56685841 |      6858     |\n",
            "|     19    | 6858 | 47032164 |      321      |\n",
            "|     20    | 321  |  103041  |      1030     |\n",
            "|     21    | 1030 | 1060900  |      609      |\n",
            "|     22    | 609  |  370881  |      3708     |\n",
            "|     23    | 3708 | 13749264 |      7492     |\n",
            "|     24    | 7492 | 56130064 |      1300     |\n",
            "|     25    | 1300 | 1690000  |      6900     |\n",
            "|     26    | 6900 | 47610000 |      6100     |\n",
            "|     27    | 6100 | 37210000 |      2100     |\n",
            "|     28    | 2100 | 4410000  |      4100     |\n",
            "|     29    | 4100 | 16810000 |      8100     |\n",
            "|     30    | 8100 | 65610000 |      6100     |\n",
            "+-----------+------+----------+---------------+\n"
          ]
        }
      ]
    }
  ]
}