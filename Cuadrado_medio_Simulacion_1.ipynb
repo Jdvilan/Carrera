{
  "nbformat": 4,
  "nbformat_minor": 0,
  "metadata": {
    "colab": {
      "provenance": [],
      "authorship_tag": "ABX9TyN8KSsiICrb2wg7mhcBa/8v"
    },
    "kernelspec": {
      "name": "python3",
      "display_name": "Python 3"
    },
    "language_info": {
      "name": "python"
    }
  },
  "cells": [
    {
      "cell_type": "markdown",
      "source": [
        "**Cuadrado medio**"
      ],
      "metadata": {
        "id": "p3_JF4ZnKDco"
      }
    },
    {
      "cell_type": "code",
      "source": [
        "#Generamos un numero aleatorio de 4 cifras\n",
        "import random\n",
        "x = random.randint(1000, 9999)\n",
        "print(x)"
      ],
      "metadata": {
        "colab": {
          "base_uri": "https://localhost:8080/"
        },
        "id": "U-4mdtwEKMOh",
        "outputId": "b37c7089-3df9-4b4b-9100-2dcd6bc4af89"
      },
      "execution_count": null,
      "outputs": [
        {
          "output_type": "stream",
          "name": "stdout",
          "text": [
            "4416\n"
          ]
        }
      ]
    },
    {
      "cell_type": "code",
      "source": [
        "#Elevamos el numero al cuadrado\n",
        "x0 = x**2\n",
        "print(x0)\n"
      ],
      "metadata": {
        "colab": {
          "base_uri": "https://localhost:8080/"
        },
        "id": "X9oQ6G3yLuTp",
        "outputId": "d58b3f73-3015-47d7-e6f8-2873d92265fd"
      },
      "execution_count": null,
      "outputs": [
        {
          "output_type": "stream",
          "name": "stdout",
          "text": [
            "19501056\n"
          ]
        }
      ]
    },
    {
      "cell_type": "code",
      "source": [
        "#Tomamos el cuadrado medio\n",
        "num = str(x0)\n",
        "if len(str(x0)) % 2 == 0:\n",
        "  print(num[2:6])\n",
        "else:\n",
        "  print(num[1:5])"
      ],
      "metadata": {
        "colab": {
          "base_uri": "https://localhost:8080/"
        },
        "id": "-OHPukx2MHBy",
        "outputId": "9cf37b44-99a9-44eb-d44d-338f7c46e7ae"
      },
      "execution_count": null,
      "outputs": [
        {
          "output_type": "stream",
          "name": "stdout",
          "text": [
            "5010\n"
          ]
        }
      ]
    },
    {
      "cell_type": "code",
      "source": [
        "import random\n",
        "from prettytable import PrettyTable\n",
        "\n",
        "# Generar una semilla inicial de 4 dígitos\n",
        "x = random.randint(1000, 9999)\n",
        "print(\"Semilla Inicial:\", x)\n",
        "\n",
        "# Configurar la tabla\n",
        "tabla = PrettyTable([\"Iteración\", \"x\", \"x^2\", \"Nueva Semilla\"])\n",
        "\n",
        "# Generar 30 números pseudoaleatorios\n",
        "for i in range(30):\n",
        "    x0 = x ** 2\n",
        "    num = str(x0)\n",
        "\n",
        "    # Tomar un segmento específico dependiendo de si la longitud es par o impar\n",
        "    if len(num) % 2 == 0:\n",
        "        nueva_semilla = int(num[2:6])\n",
        "    else:\n",
        "        nueva_semilla = int(num[1:5])\n",
        "\n",
        "    # Agregar fila a la tabla\n",
        "    tabla.add_row([i + 1, x, x0, nueva_semilla])\n",
        "\n",
        "    # Actualizar la semilla para la siguiente iteración\n",
        "    x = nueva_semilla\n",
        "\n",
        "# Imprimir la tabla\n",
        "print(tabla)"
      ],
      "metadata": {
        "id": "Cf53XhAxs2YZ",
        "outputId": "7f9fd740-94cc-45c2-f0f9-a3c5c67bf0e1",
        "colab": {
          "base_uri": "https://localhost:8080/"
        }
      },
      "execution_count": null,
      "outputs": [
        {
          "output_type": "stream",
          "name": "stdout",
          "text": [
            "Semilla Inicial: 2264\n",
            "+-----------+------+----------+---------------+\n",
            "| Iteración |  x   |   x^2    | Nueva Semilla |\n",
            "+-----------+------+----------+---------------+\n",
            "|     1     | 2264 | 5125696  |      1256     |\n",
            "|     2     | 1256 | 1577536  |      5775     |\n",
            "|     3     | 5775 | 33350625 |      3506     |\n",
            "|     4     | 3506 | 12292036 |      2920     |\n",
            "|     5     | 2920 | 8526400  |      5264     |\n",
            "|     6     | 5264 | 27709696 |      7096     |\n",
            "|     7     | 7096 | 50353216 |      3532     |\n",
            "|     8     | 3532 | 12475024 |      4750     |\n",
            "|     9     | 4750 | 22562500 |      5625     |\n",
            "|     10    | 5625 | 31640625 |      6406     |\n",
            "|     11    | 6406 | 41036836 |      368      |\n",
            "|     12    | 368  |  135424  |      5424     |\n",
            "|     13    | 5424 | 29419776 |      4197     |\n",
            "|     14    | 4197 | 17614809 |      6148     |\n",
            "|     15    | 6148 | 37797904 |      7979     |\n",
            "|     16    | 7979 | 63664441 |      6644     |\n",
            "|     17    | 6644 | 44142736 |      1427     |\n",
            "|     18    | 1427 | 2036329  |      363      |\n",
            "|     19    | 363  |  131769  |      1769     |\n",
            "|     20    | 1769 | 3129361  |      1293     |\n",
            "|     21    | 1293 | 1671849  |      6718     |\n",
            "|     22    | 6718 | 45131524 |      1315     |\n",
            "|     23    | 1315 | 1729225  |      7292     |\n",
            "|     24    | 7292 | 53173264 |      1732     |\n",
            "|     25    | 1732 | 2999824  |      9998     |\n",
            "|     26    | 9998 | 99960004 |      9600     |\n",
            "|     27    | 9600 | 92160000 |      1600     |\n",
            "|     28    | 1600 | 2560000  |      5600     |\n",
            "|     29    | 5600 | 31360000 |      3600     |\n",
            "|     30    | 3600 | 12960000 |      9600     |\n",
            "+-----------+------+----------+---------------+\n"
          ]
        }
      ]
    }
  ]
}