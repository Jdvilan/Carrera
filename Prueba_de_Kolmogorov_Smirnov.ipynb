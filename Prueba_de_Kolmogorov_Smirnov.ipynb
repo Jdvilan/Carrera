{
  "nbformat": 4,
  "nbformat_minor": 0,
  "metadata": {
    "colab": {
      "provenance": [],
      "authorship_tag": "ABX9TyMs/pP2J2OxM4q5zkD2Uhbm"
    },
    "kernelspec": {
      "name": "python3",
      "display_name": "Python 3"
    },
    "language_info": {
      "name": "python"
    }
  },
  "cells": [
    {
      "cell_type": "code",
      "execution_count": null,
      "metadata": {
        "id": "vk4ACvpfEjeR"
      },
      "outputs": [],
      "source": [
        "#Ordenar los números de menor a mayor\n",
        "x_i = [0.8797, 0.3884, 0.6289, 0.8750, 0.5999, 0.8589, 0.9996, 0.2415, 0.3808, 0.9606, 0.9848, 0.3469, 0.7977, 0.5844, 0.8147, 0.6431, 0.7387, 0.5613, 0.0318,\n",
        "         0.7401, 0.4557, 0.1592, 0.8536, 0.8846, 0.3410, 0.1492, 0.8681, 0.5291, 0.3188, 0.5992, 0.9170, 0.2204, 0.5991, 0.5461, 0.5739, 0.3254, 0.0856, 0.2258,\n",
        "         0.4603, 0.5027, 0.8376, 0.6235, 0.3681, 0.2088, 0.1525, 0.2006, 0.4720, 0.4272, 0.6360, 0.0954]\n",
        "\n",
        "x_i.sort()"
      ]
    },
    {
      "cell_type": "markdown",
      "source": [
        "Calcular\n",
        "\n",
        "$$D^+=\\max_{1<i<n} \\Bigg|\\frac{i}{n}-x_i\\Bigg|$$"
      ],
      "metadata": {
        "id": "gPVG5z94YVkp"
      }
    },
    {
      "cell_type": "code",
      "source": [
        "n = len(x_i)\n",
        "D_mas = []\n",
        "for i in range(n):\n",
        "  D_i = abs(i/50-x_i[i])\n",
        "  D_mas.append(D_i)\n",
        "\n",
        "max(D_mas)"
      ],
      "metadata": {
        "colab": {
          "base_uri": "https://localhost:8080/"
        },
        "id": "olvQ3xKuIdmx",
        "outputId": "7e0cea22-d58a-444a-914c-9e15ba4c2305"
      },
      "execution_count": null,
      "outputs": [
        {
          "output_type": "execute_result",
          "data": {
            "text/plain": [
              "0.09879999999999997"
            ]
          },
          "metadata": {},
          "execution_count": 3
        }
      ]
    },
    {
      "cell_type": "markdown",
      "source": [
        "Calcular\n",
        "\n",
        "$$D^-=\\max_{1<i<n} \\Bigg|x_i-\\frac{i-1}{n}\\Bigg|$$"
      ],
      "metadata": {
        "id": "Uw7TtKXbZS8Q"
      }
    },
    {
      "cell_type": "code",
      "source": [
        "D_min = []\n",
        "for i in range(n):\n",
        "  D_e = abs(x_i[i] - (i-1)/50)\n",
        "  D_min.append(D_e)\n",
        "\n",
        "max(D_min)"
      ],
      "metadata": {
        "id": "RioZeT-8MtDe",
        "outputId": "c6dec583-586b-4615-a0aa-7b9e35b1a1f6",
        "colab": {
          "base_uri": "https://localhost:8080/"
        }
      },
      "execution_count": null,
      "outputs": [
        {
          "output_type": "execute_result",
          "data": {
            "text/plain": [
              "0.11879999999999996"
            ]
          },
          "metadata": {},
          "execution_count": 31
        }
      ]
    },
    {
      "cell_type": "markdown",
      "source": [
        "Calcular\n",
        "\n",
        "$$\\max(D^+,D^-)$$"
      ],
      "metadata": {
        "id": "9BVasAi6Zf3L"
      }
    },
    {
      "cell_type": "code",
      "source": [
        "max(max(D_mas), max(D_min))"
      ],
      "metadata": {
        "id": "8Ej3eylUNs-u",
        "outputId": "a9bd1eb7-b386-4ac1-b9ea-a6f46e5b3ed1",
        "colab": {
          "base_uri": "https://localhost:8080/"
        }
      },
      "execution_count": null,
      "outputs": [
        {
          "output_type": "execute_result",
          "data": {
            "text/plain": [
              "0.11879999999999996"
            ]
          },
          "metadata": {},
          "execution_count": 33
        }
      ]
    },
    {
      "cell_type": "markdown",
      "source": [
        "Tenemos que $d_{\\alpha,n}$=0.1246.\n",
        "\n",
        "Dado que $0.1188< 0.1246$, aceptamos la hipotesis."
      ],
      "metadata": {
        "id": "t_OQxaR6N5Yp"
      }
    }
  ]
}