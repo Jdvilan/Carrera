{
  "nbformat": 4,
  "nbformat_minor": 0,
  "metadata": {
    "colab": {
      "provenance": [],
      "authorship_tag": "ABX9TyMPYfVMIi8j89jjeGO4XAqA"
    },
    "kernelspec": {
      "name": "python3",
      "display_name": "Python 3"
    },
    "language_info": {
      "name": "python"
    }
  },
  "cells": [
    {
      "cell_type": "markdown",
      "source": [
        "**1.- Realice una prueba de corridas con un nivel de aceptación del $95\\%$**"
      ],
      "metadata": {
        "id": "wv-ILoWrX_Wo"
      }
    },
    {
      "cell_type": "code",
      "execution_count": 2,
      "metadata": {
        "id": "bDOYwhAWVMPG"
      },
      "outputs": [],
      "source": [
        "muestra = [0.048, 0.591, 0.478, 0.166, 0.932, 0.926, 0.007, 0.551, 0.362, 0.533, 0.368, 0.437, 0.178, 0.411, 0.545, 0.787, 0.594, 0.086, 0.951, 0.772,\n",
        "           0.298, 0.199, 0.157, 0.401, 0.631]"
      ]
    },
    {
      "cell_type": "code",
      "source": [
        "def contar_corridas(muestra, k):\n",
        "    resultados = [] #Almacenamos los resultados de la evaluación de la muestra\n",
        "    num_corridas = 2\n",
        "    for i in range(k):\n",
        "        if i == len(muestra) - 1:\n",
        "            resultados.append(None)  #Si se alcanza el final de la lista, agregamos None\n",
        "        elif muestra[i] < muestra[i + 1]: #Si el elemento actual es menor que el siguiente agregamos 1 a la lista de resultados\n",
        "            resultados.append(1)\n",
        "        else:\n",
        "            resultados.append(0) #Si el elemento actual no es menor que el siguiente (es mayor o igual), agregamos 0 a la lista\n",
        "            num_corridas += 1  #Incrementamos el contador de corridas si hay un cambio de tendencia\n",
        "    return resultados, num_corridas\n",
        "\n",
        "k = len(muestra)  #Registramos el número de datos en la lista\n",
        "resultados_evaluacion, num_corridas = contar_corridas(muestra, k) #Llamamos a la función para contar las corridas\n",
        "print(\"Resultados de evaluación:\", resultados_evaluacion)\n",
        "print(\"Número de corridas generadas:\", num_corridas)"
      ],
      "metadata": {
        "colab": {
          "base_uri": "https://localhost:8080/"
        },
        "id": "j0eKGE-gaGss",
        "outputId": "0317deb9-0613-43c8-a39b-2e1610d72ba1"
      },
      "execution_count": 12,
      "outputs": [
        {
          "output_type": "stream",
          "name": "stdout",
          "text": [
            "Resultados de evaluación: [1, 0, 0, 1, 0, 0, 1, 0, 1, 0, 1, 0, 1, 1, 1, 0, 0, 1, 0, 0, 0, 0, 1, 1, None]\n",
            "Número de corridas generadas: 15\n"
          ]
        }
      ]
    },
    {
      "cell_type": "markdown",
      "source": [
        "Calculamos el valor esperado\n",
        "$$\\mu_{C_0}=\\frac{2n-1}{3}$$\n",
        "La varianza\n",
        "$$\\sigma_{C_0}^2=\\frac{16n-29}{90}$$\n",
        "Y el estadistico\n",
        "$$z_0=\\frac{C_0-\\mu_{C_0}}{\\sigma_{C_0}}$$"
      ],
      "metadata": {
        "id": "Bt4UbcWscw1N"
      }
    },
    {
      "cell_type": "code",
      "source": [
        "mu = (2*k-1)/3\n",
        "sigma = ((16*k-29)/90)**0.5\n",
        "z = (num_corridas-mu)/sigma\n",
        "print(\"Valor esperado: \", mu)\n",
        "print(\"Varianza: \", sigma**2)\n",
        "print(\"Estadistico z: \", z)"
      ],
      "metadata": {
        "colab": {
          "base_uri": "https://localhost:8080/"
        },
        "id": "y1SCDomgeG3l",
        "outputId": "6ccb0450-725c-4c5e-ff7e-a3887403d129"
      },
      "execution_count": 16,
      "outputs": [
        {
          "output_type": "stream",
          "name": "stdout",
          "text": [
            "Valor esperado:  16.333333333333332\n",
            "Varianza:  4.122222222222222\n",
            "Estadistico z:  -0.6567091033031179\n"
          ]
        }
      ]
    },
    {
      "cell_type": "markdown",
      "source": [
        "El intervalo de aceptación esta dado por\n",
        "$$-z_{\\frac{\\alpha}{2}}\\leq z_0\\leq z_{\\frac{\\alpha}{2}}$$\n",
        "donde $\\alpha=$nivel de significancia.\n",
        "\n",
        "Para el caso,\n",
        "$$z_{\\frac{0.05}{2}}=z_{0.025}=1.96$$"
      ],
      "metadata": {
        "id": "ugirihmtfeii"
      }
    },
    {
      "cell_type": "code",
      "source": [
        "if -1.96 <= z <= 1.96:\n",
        "  print(\"Los números de la muestra son independientes\")\n",
        "else:\n",
        "  print(\"Los números de la muestra no son independientes\")"
      ],
      "metadata": {
        "colab": {
          "base_uri": "https://localhost:8080/"
        },
        "id": "FUeeDGmcgsCt",
        "outputId": "9d44d341-28c2-47fe-bc5d-c66b7d2261de"
      },
      "execution_count": 17,
      "outputs": [
        {
          "output_type": "stream",
          "name": "stdout",
          "text": [
            "Los números de la muestra son independientes\n"
          ]
        }
      ]
    },
    {
      "cell_type": "markdown",
      "source": [
        "**2.- Escriba en una Notebook de Jupyter un programa en Python que implemente la Prueba de Corridas**"
      ],
      "metadata": {
        "id": "3UGW0YHxhJuO"
      }
    },
    {
      "cell_type": "code",
      "source": [
        "def contar_corridas(muestra, k):\n",
        "    resultados = []  #Almacenamos los resultados de la evaluación de la muestra\n",
        "    num_corridas = 2\n",
        "    for i in range(k):\n",
        "        if i == len(muestra) - 1:\n",
        "            resultados.append(None)  #Si se alcanza el final de la lista, agregamos None\n",
        "        elif muestra[i] < muestra[i + 1]:  #Si el elemento actual es menor que el siguiente, agregamos 1 a la lista de resultados\n",
        "            resultados.append(1)\n",
        "        else:\n",
        "            resultados.append(0)  #Si el elemento actual no es menor que el siguiente (es mayor o igual), agregamos 0 a la lista\n",
        "            num_corridas += 1  #Incrementamos el contador de corridas si hay un cambio de tendencia\n",
        "    return resultados, num_corridas\n",
        "\n",
        "#Solicitamos al usuario que ingrese los números de la muestra\n",
        "muestra = []\n",
        "num_elementos = int(input(\"Ingrese el número de elementos en la muestra: \"))\n",
        "for i in range(num_elementos):\n",
        "    elemento = float(input(f\"Ingrese el elemento {i + 1}: \"))\n",
        "    muestra.append(elemento)\n",
        "\n",
        "k = len(muestra)  # Registramos el número de datos en la lista\n",
        "resultados_evaluacion, num_corridas = contar_corridas(muestra, k)  # Llamamos a la función para contar las corridas\n",
        "print(\"Resultados de evaluación:\", resultados_evaluacion)\n",
        "print(\"Número de corridas generadas:\", num_corridas)"
      ],
      "metadata": {
        "colab": {
          "base_uri": "https://localhost:8080/"
        },
        "id": "L2HsowLEhxpJ",
        "outputId": "c5265aed-b5c6-4cd0-a6fb-3318c50302f3"
      },
      "execution_count": 19,
      "outputs": [
        {
          "output_type": "stream",
          "name": "stdout",
          "text": [
            "Ingrese el número de elementos en la muestra: 10\n",
            "Ingrese el elemento 1: 0.78\n",
            "Ingrese el elemento 2: 0.98\n",
            "Ingrese el elemento 3: 0.24\n",
            "Ingrese el elemento 4: 0.73\n",
            "Ingrese el elemento 5: 0.43\n",
            "Ingrese el elemento 6: 0.16\n",
            "Ingrese el elemento 7: 0.48\n",
            "Ingrese el elemento 8: 0.47\n",
            "Ingrese el elemento 9: 0.18\n",
            "Ingrese el elemento 10: 0.55\n",
            "Resultados de evaluación: [1, 0, 1, 0, 0, 1, 0, 0, 1, None]\n",
            "Número de corridas generadas: 7\n"
          ]
        }
      ]
    },
    {
      "cell_type": "code",
      "source": [
        "mu = (2*k-1)/3\n",
        "sigma = ((16*k-29)/90)**0.5\n",
        "z = (num_corridas-mu)/sigma\n",
        "print(\"Valor esperado: \", mu)\n",
        "print(\"Varianza: \", sigma**2)\n",
        "print(\"Estadistico z: \", z)"
      ],
      "metadata": {
        "colab": {
          "base_uri": "https://localhost:8080/"
        },
        "id": "agbGTlhti14W",
        "outputId": "e86e2d09-c513-474c-b94c-035b1b9fc740"
      },
      "execution_count": 20,
      "outputs": [
        {
          "output_type": "stream",
          "name": "stdout",
          "text": [
            "Valor esperado:  6.333333333333333\n",
            "Varianza:  1.4555555555555557\n",
            "Estadistico z:  0.5525789639955379\n"
          ]
        }
      ]
    },
    {
      "cell_type": "code",
      "source": [
        "normal = float(input(\"Ingrese el valor tabular de la normal estandar: \"))\n",
        "if -1*normal <= z <= normal:\n",
        "  print(\"Los números de la muestra son independientes\")\n",
        "else:\n",
        "  print(\"Los números de la muestra no son independientes\")"
      ],
      "metadata": {
        "colab": {
          "base_uri": "https://localhost:8080/"
        },
        "id": "_oen04grjDa9",
        "outputId": "f8a3ea67-35e7-4912-85fa-804080b51610"
      },
      "execution_count": 21,
      "outputs": [
        {
          "output_type": "stream",
          "name": "stdout",
          "text": [
            "Ingrese el valor tabular de la normal estandar: 1.96\n",
            "Los números de la muestra son independientes\n"
          ]
        }
      ]
    },
    {
      "cell_type": "markdown",
      "source": [
        "**3.- Realice las tres pruebas estudiadas hasta ahora a esta muestra, con un nivel de aceptación de $95\\%$.**"
      ],
      "metadata": {
        "id": "xS3x8fn3jzxh"
      }
    },
    {
      "cell_type": "code",
      "source": [
        "archivo = [0.78, 0.98, 0.24, 0.73, 0.43, 0.16, 0.78, 0.47, 0.18, 0.55, 0.04, 0.29, 0.68, 0.77, 0.16, 0.03, 0.79, 0.22, 0.37, 0.80, 0.96, 0.26, 0.91, 0.55,\n",
        "         0.75, 0.55, 0.64, 0.39, 0.53, 0.45, 0.61, 0.14, 0.38, 0.12, 0.40, 0.74, 0.78, 0.98, 0.27, 0.60, 0.43, 0.67, 0.62, 0.32, 0.53, 0.54, 0.24, 0.29,\n",
        "         0.18, 0.08, 0.82, 0.94, 0.19, 0.98, 0.41, 1.00, 0.74, 0.92, 0.14, 0.43, 0.83, 0.88, 0.18, 0.21, 0.50, 0.13, 0.43, 0.69, 0.08, 0.12, 0.22, 0.50,\n",
        "         0.16, 0.11, 0.18, 0.89, 0.80, 0.42, 0.29, 0.87, 0.83, 0.79, 0.65, 0.28, 0.78, 0.49, 0.36, 0.86, 0.87, 0.64, 0.51, 0.07, 0.18, 0.94, 0.50, 0.22,\n",
        "         0.66, 0.91, 0.48, 0.24]"
      ],
      "metadata": {
        "id": "XScyPuZNkd3L"
      },
      "execution_count": 23,
      "outputs": []
    },
    {
      "cell_type": "markdown",
      "source": [
        "a) Prueba Chi-cuadrada"
      ],
      "metadata": {
        "id": "5YsZhzjGkhYX"
      }
    },
    {
      "cell_type": "code",
      "source": [
        "#Definimos los intervalos\n",
        "intervalos = [(0, 0.3), (0.3, 0.6), (0.6, 0.9), (0.9, 1.2)]\n",
        "\n",
        "# Iniciamos el contador para cada intervalo\n",
        "conteo_intervalos = [0] * len(intervalos)\n",
        "\n",
        "# Contamos cuántos datos caen en cada intervalo\n",
        "for dato in archivo:\n",
        "    for i, (limite_inferior, limite_superior) in enumerate(intervalos):\n",
        "        if limite_inferior <= dato < limite_superior:\n",
        "            conteo_intervalos[i] += 1\n",
        "            break\n",
        "\n",
        "# Creamos la tabla con los resultados\n",
        "tabla_resultados = []\n",
        "for i, (lim_inf, lim_sup) in enumerate(intervalos):\n",
        "    cantidad_datos = conteo_intervalos[i]\n",
        "    resultado_operacion = ((cantidad_datos - 25) ** 2) / 25 if cantidad_datos != 0 else 0\n",
        "    tabla_resultados.append([f'[{lim_inf}, {lim_sup})', cantidad_datos, 25, resultado_operacion])\n",
        "\n",
        "def chi_1(tabla):\n",
        "    suma = 0\n",
        "    for fila in tabla:\n",
        "        suma += fila[3]\n",
        "    return suma\n",
        "\n",
        "total_suma = chi_1(tabla_resultados)\n",
        "\n",
        "if total_suma > 7.815:\n",
        "  print(f'{total_suma} > 7.815')\n",
        "  print('Se rechaza')\n",
        "else:\n",
        "  print(f'{total_suma} < 7.815')\n",
        "  print('Se acepta')"
      ],
      "metadata": {
        "colab": {
          "base_uri": "https://localhost:8080/"
        },
        "id": "rfGpotGLktag",
        "outputId": "5803153f-41f2-4ef6-df11-4bd17d87e863"
      },
      "execution_count": 40,
      "outputs": [
        {
          "output_type": "stream",
          "name": "stdout",
          "text": [
            "13.04 > 7.815\n",
            "Se rechaza\n"
          ]
        }
      ]
    },
    {
      "cell_type": "markdown",
      "source": [
        "b) Prueba de Kolmogorov-Smirnov"
      ],
      "metadata": {
        "id": "KTyy0kYzmCdn"
      }
    },
    {
      "cell_type": "code",
      "source": [
        "archivo.sort() #Ordenamos los numeros de menor a mayor\n",
        "n = len(archivo)\n",
        "D_mas = [] #Obtenemos D^+\n",
        "for i in range(n):\n",
        "  D_i = abs(i/50-archivo[i])\n",
        "  D_mas.append(D_i)\n",
        "\n",
        "D_min = [] #Obtenemos D^-\n",
        "for i in range(n):\n",
        "  D_e = abs(archivo[i] - (i-1)/50)\n",
        "  D_min.append(D_e)\n",
        "\n",
        "#Tomamos el maximo entre D^+ y D^-\n",
        "maximo = max(max(D_mas), max(D_min))\n",
        "\n",
        "d = 0.875897/n**0.5\n",
        "if maximo < d:\n",
        "  print('Se acepta')\n",
        "else:\n",
        "  print('Se rechaza')"
      ],
      "metadata": {
        "colab": {
          "base_uri": "https://localhost:8080/"
        },
        "id": "520roux3mBzx",
        "outputId": "106dd053-4c0a-4cdb-da09-699dd76472c2"
      },
      "execution_count": 41,
      "outputs": [
        {
          "output_type": "stream",
          "name": "stdout",
          "text": [
            "Se rechaza\n"
          ]
        }
      ]
    },
    {
      "cell_type": "markdown",
      "source": [
        "c) Prueba de corridas"
      ],
      "metadata": {
        "id": "NKiZB4EJo6FQ"
      }
    },
    {
      "cell_type": "code",
      "source": [
        "def contar_corridas(archivo, k):\n",
        "    resultados = [] #Almacenamos los resultados de la evaluación de la muestra\n",
        "    num_corridas = 9\n",
        "    for i in range(k):\n",
        "        if i == len(archivo) - 1:\n",
        "            resultados.append(None)  #Si se alcanza el final de la lista, agregamos None\n",
        "        elif archivo[i] < archivo[i + 1]: #Si el elemento actual es menor que el siguiente agregamos 1 a la lista de resultados\n",
        "            resultados.append(1)\n",
        "        else:\n",
        "            resultados.append(0) #Si el elemento actual no es menor que el siguiente (es mayor o igual), agregamos 0 a la lista\n",
        "            num_corridas += 1  #Incrementamos el contador de corridas si hay un cambio de tendencia\n",
        "    return resultados, num_corridas\n",
        "\n",
        "k = len(archivo)  #Registramos el número de datos en la lista\n",
        "resultados_evaluacion, num_corridas = contar_corridas(archivo, k) #Llamamos a la función para contar las corridas\n",
        "\n",
        "mu = (2*k-1)/3\n",
        "sigma = ((16*k-29)/90)**0.5\n",
        "z = (num_corridas-mu)/sigma\n",
        "\n",
        "if -1.96 <= z <= 1.96:\n",
        "  print(\"Se acepta\")\n",
        "else:\n",
        "  print(\"Se rechaza\")"
      ],
      "metadata": {
        "colab": {
          "base_uri": "https://localhost:8080/"
        },
        "id": "Oub4h5s6pCwx",
        "outputId": "538ff8e8-97fd-40c2-9fdb-eb435ae2eac6"
      },
      "execution_count": 57,
      "outputs": [
        {
          "output_type": "stream",
          "name": "stdout",
          "text": [
            "Se rechaza\n"
          ]
        }
      ]
    }
  ]
}