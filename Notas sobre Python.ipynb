{
  "cells": [
    {
      "cell_type": "markdown",
      "metadata": {
        "id": "tubAzH05Benk"
      },
      "source": [
        "## Listas"
      ]
    },
    {
      "cell_type": "markdown",
      "metadata": {
        "id": "uTaRt-M4Beno"
      },
      "source": [
        "Una **lista** es una colección ordenada de objetos, que pueden ser de distintos tipos. Las listas son mutables y se pueden realizar varias operaciones con ellas mediante funciones de Python."
      ]
    },
    {
      "cell_type": "markdown",
      "metadata": {
        "id": "OcecY62ZBenp"
      },
      "source": [
        "Se pueden definir mediante corchetes [ ], entre los cuales se escriben los objetos separados por comas. Así, son listas:"
      ]
    },
    {
      "cell_type": "code",
      "execution_count": 27,
      "metadata": {
        "id": "SVyfkic5Benr"
      },
      "outputs": [],
      "source": [
        "l = []\n",
        "\n",
        "m = [1,2,2]\n",
        "\n",
        "lista = [1,2,3,4,5, 'a', 'b', 'c', [1,2], [3, 'c']]"
      ]
    },
    {
      "cell_type": "code",
      "execution_count": 2,
      "metadata": {
        "id": "-5Ll4cBZBent",
        "outputId": "b43b91e2-90bf-40a6-9d57-1e5281da5027",
        "colab": {
          "base_uri": "https://localhost:8080/"
        }
      },
      "outputs": [
        {
          "output_type": "execute_result",
          "data": {
            "text/plain": [
              "list"
            ]
          },
          "metadata": {},
          "execution_count": 2
        }
      ],
      "source": [
        "type(l)  # La función type() devuelve el tipo de objeto que es el argumento"
      ]
    },
    {
      "cell_type": "code",
      "execution_count": 3,
      "metadata": {
        "id": "R5Apu92iBenu",
        "outputId": "459db47f-27f9-4243-8d85-56d347667f85",
        "colab": {
          "base_uri": "https://localhost:8080/"
        }
      },
      "outputs": [
        {
          "output_type": "execute_result",
          "data": {
            "text/plain": [
              "list"
            ]
          },
          "metadata": {},
          "execution_count": 3
        }
      ],
      "source": [
        "type(m)"
      ]
    },
    {
      "cell_type": "markdown",
      "metadata": {
        "id": "oPfPAqPWBenu"
      },
      "source": [
        "Las listas son iterables: podemos recorrer sus elementos mediante un bucle:"
      ]
    },
    {
      "cell_type": "code",
      "execution_count": 5,
      "metadata": {
        "id": "thlUHTeOBenu",
        "outputId": "b8a30925-f26a-40ae-f557-38522746bf23",
        "colab": {
          "base_uri": "https://localhost:8080/"
        }
      },
      "outputs": [
        {
          "output_type": "stream",
          "name": "stdout",
          "text": [
            "1\n",
            "2\n",
            "3\n",
            "4\n",
            "5\n",
            "a\n",
            "b\n",
            "c\n",
            "[1, 2]\n",
            "[3, 'c']\n"
          ]
        }
      ],
      "source": [
        "for i in lista:\n",
        "    print(i)"
      ]
    },
    {
      "cell_type": "markdown",
      "metadata": {
        "id": "hY0-EDGeBenv"
      },
      "source": [
        "Se puede acceder a cada elemento de la lista indicando su posición en ella:"
      ]
    },
    {
      "cell_type": "code",
      "execution_count": 6,
      "metadata": {
        "id": "rKhLHS0NBenv",
        "outputId": "115da0a7-becc-47fe-e2f0-fa08ff1c324f",
        "colab": {
          "base_uri": "https://localhost:8080/"
        }
      },
      "outputs": [
        {
          "output_type": "execute_result",
          "data": {
            "text/plain": [
              "1"
            ]
          },
          "metadata": {},
          "execution_count": 6
        }
      ],
      "source": [
        "lista[0]"
      ]
    },
    {
      "cell_type": "markdown",
      "metadata": {
        "id": "AExYslkxBenw"
      },
      "source": [
        "Y se puede reemplazar alguno de sus elementos indicando el nuevo valor:"
      ]
    },
    {
      "cell_type": "code",
      "execution_count": 7,
      "metadata": {
        "id": "zxr-A44xBenw"
      },
      "outputs": [],
      "source": [
        "lista[0] = 100"
      ]
    },
    {
      "cell_type": "code",
      "execution_count": 8,
      "metadata": {
        "id": "QrckZSLhBenw",
        "outputId": "838e8232-d155-4df1-f7af-631c46b783ff",
        "colab": {
          "base_uri": "https://localhost:8080/"
        }
      },
      "outputs": [
        {
          "output_type": "stream",
          "name": "stdout",
          "text": [
            "[100, 2, 3, 4, 5, 'a', 'b', 'c', [1, 2], [3, 'c']]\n"
          ]
        }
      ],
      "source": [
        "print(lista)"
      ]
    },
    {
      "cell_type": "markdown",
      "metadata": {
        "id": "OHKHqpp5Benx"
      },
      "source": [
        "Con el operador **in** podemos comprobar si un determinado **valor** está en la lista: dará True si está y False si no está."
      ]
    },
    {
      "cell_type": "code",
      "execution_count": 9,
      "metadata": {
        "id": "8rdEC6TKBenx",
        "outputId": "2b6fb0ff-a2e6-419f-c435-2f8cd5d9cebb",
        "colab": {
          "base_uri": "https://localhost:8080/"
        }
      },
      "outputs": [
        {
          "output_type": "execute_result",
          "data": {
            "text/plain": [
              "False"
            ]
          },
          "metadata": {},
          "execution_count": 9
        }
      ],
      "source": [
        "1 in lista"
      ]
    },
    {
      "cell_type": "markdown",
      "metadata": {
        "id": "hS3-w9-MBenx"
      },
      "source": [
        "### Ejercicio:\n",
        "\n",
        "¿Cómo accedemos al elemento 'c' de la lista [3, 'c'] dentro de lista?"
      ]
    },
    {
      "cell_type": "code",
      "source": [
        "print(lista[9][1])"
      ],
      "metadata": {
        "id": "vqk_fGF7C8yW",
        "outputId": "778e5eda-f62d-46fd-e80a-a940f18bc12b",
        "colab": {
          "base_uri": "https://localhost:8080/"
        }
      },
      "execution_count": 37,
      "outputs": [
        {
          "output_type": "stream",
          "name": "stdout",
          "text": [
            "c\n"
          ]
        }
      ]
    },
    {
      "cell_type": "markdown",
      "metadata": {
        "id": "zI0z3pP_Beny"
      },
      "source": [
        "Las listas se pueden sumar y multiplicar"
      ]
    },
    {
      "cell_type": "code",
      "execution_count": 39,
      "metadata": {
        "id": "bjC6KVAbBeny"
      },
      "outputs": [],
      "source": [
        "a = [1, 2, 3, 4, 5]\n",
        "b = [6,7,8,9,10]"
      ]
    },
    {
      "cell_type": "code",
      "execution_count": 11,
      "metadata": {
        "id": "o6-X67YVBeny",
        "outputId": "a8a0e13b-59c2-4f15-d031-68a6fcd91faf",
        "colab": {
          "base_uri": "https://localhost:8080/"
        }
      },
      "outputs": [
        {
          "output_type": "execute_result",
          "data": {
            "text/plain": [
              "[1, 2, 3, 4, 5, 6, 7, 8, 9, 10]"
            ]
          },
          "metadata": {},
          "execution_count": 11
        }
      ],
      "source": [
        "a + b"
      ]
    },
    {
      "cell_type": "code",
      "execution_count": 13,
      "metadata": {
        "id": "CVZCLpvqBenz",
        "outputId": "4524d771-164d-4e44-ea10-c7e91024211a",
        "colab": {
          "base_uri": "https://localhost:8080/"
        }
      },
      "outputs": [
        {
          "output_type": "execute_result",
          "data": {
            "text/plain": [
              "[6, 7, 8, 9, 10, 6, 7, 8, 9, 10]"
            ]
          },
          "metadata": {},
          "execution_count": 13
        }
      ],
      "source": [
        "2*b        # Observar el resultado"
      ]
    },
    {
      "cell_type": "markdown",
      "metadata": {
        "id": "qkbAWlpiBenz"
      },
      "source": [
        "La función **sum( )** devuelve la suma de los elementos de listas numéricas."
      ]
    },
    {
      "cell_type": "code",
      "execution_count": 14,
      "metadata": {
        "id": "-SuVvsXgBenz",
        "outputId": "1f75bb9f-a1a9-41d8-ba50-bf9207aa7cad",
        "colab": {
          "base_uri": "https://localhost:8080/"
        }
      },
      "outputs": [
        {
          "output_type": "execute_result",
          "data": {
            "text/plain": [
              "15"
            ]
          },
          "metadata": {},
          "execution_count": 14
        }
      ],
      "source": [
        "sum(a)"
      ]
    },
    {
      "cell_type": "markdown",
      "metadata": {
        "id": "orcms7LjBen0"
      },
      "source": [
        "La función **len( )** devuelve el número de elementos de la lista."
      ]
    },
    {
      "cell_type": "code",
      "execution_count": 15,
      "metadata": {
        "id": "hUarKr-6Ben0",
        "outputId": "d2ab638a-ce58-4e05-f252-6d2f4deedba9",
        "colab": {
          "base_uri": "https://localhost:8080/"
        }
      },
      "outputs": [
        {
          "output_type": "execute_result",
          "data": {
            "text/plain": [
              "0"
            ]
          },
          "metadata": {},
          "execution_count": 15
        }
      ],
      "source": [
        "len(l)"
      ]
    },
    {
      "cell_type": "markdown",
      "metadata": {
        "id": "nOV_kfOaBen0"
      },
      "source": [
        "### Ejercicio:"
      ]
    },
    {
      "cell_type": "markdown",
      "metadata": {
        "id": "aFD91va0Ben0"
      },
      "source": [
        "Calcular el promedio de:\n",
        "\n",
        "* a\n",
        "* b\n",
        "* 5a ¿Es igual a 5*(promedio de a)?\n",
        "* a + b ¿Es igual a la suma de los promedios?\n",
        "\n",
        "\n"
      ]
    },
    {
      "cell_type": "code",
      "source": [
        "Proma = sum(a)/len(a)"
      ],
      "metadata": {
        "id": "KZyMb7n5F8X1"
      },
      "execution_count": 43,
      "outputs": []
    },
    {
      "cell_type": "code",
      "source": [
        "Promb = sum(b)/len(b)"
      ],
      "metadata": {
        "id": "4yi-IBj1GLAO"
      },
      "execution_count": 45,
      "outputs": []
    },
    {
      "cell_type": "code",
      "source": [
        "W = 5*a"
      ],
      "metadata": {
        "id": "b-PjMZauGP_y"
      },
      "execution_count": 46,
      "outputs": []
    },
    {
      "cell_type": "markdown",
      "metadata": {
        "id": "fpd5bQLFBen1"
      },
      "source": [
        "También se puede acceder a los elementos de una lista por rangos."
      ]
    },
    {
      "cell_type": "code",
      "execution_count": 16,
      "metadata": {
        "id": "jQ4bR2NoBen1",
        "outputId": "cba6ee2e-2bbc-4a80-9458-1e267c4e3a3d",
        "colab": {
          "base_uri": "https://localhost:8080/"
        }
      },
      "outputs": [
        {
          "output_type": "execute_result",
          "data": {
            "text/plain": [
              "[2, 3, 4, 5]"
            ]
          },
          "metadata": {},
          "execution_count": 16
        }
      ],
      "source": [
        "a[1:]"
      ]
    },
    {
      "cell_type": "code",
      "execution_count": 17,
      "metadata": {
        "id": "6qjvp8r0Ben1",
        "outputId": "690e657a-84d8-4a49-fc5d-9c0767d8fec5",
        "colab": {
          "base_uri": "https://localhost:8080/"
        }
      },
      "outputs": [
        {
          "output_type": "execute_result",
          "data": {
            "text/plain": [
              "[1, 2]"
            ]
          },
          "metadata": {},
          "execution_count": 17
        }
      ],
      "source": [
        "a[:2]"
      ]
    },
    {
      "cell_type": "code",
      "execution_count": 18,
      "metadata": {
        "id": "jam5XzazBen1",
        "outputId": "48367578-050e-4af6-8c72-3a13166b6969",
        "colab": {
          "base_uri": "https://localhost:8080/"
        }
      },
      "outputs": [
        {
          "output_type": "execute_result",
          "data": {
            "text/plain": [
              "[4, 5]"
            ]
          },
          "metadata": {},
          "execution_count": 18
        }
      ],
      "source": [
        "a[3:5]"
      ]
    },
    {
      "cell_type": "code",
      "execution_count": 19,
      "metadata": {
        "id": "_twjyMBEBen2",
        "outputId": "bc6dd55f-fd06-413c-e111-9db84f1a8993",
        "colab": {
          "base_uri": "https://localhost:8080/"
        }
      },
      "outputs": [
        {
          "output_type": "execute_result",
          "data": {
            "text/plain": [
              "[1, 3, 5]"
            ]
          },
          "metadata": {},
          "execution_count": 19
        }
      ],
      "source": [
        "a[::2]"
      ]
    },
    {
      "cell_type": "markdown",
      "metadata": {
        "id": "JKw5XhuTBen2"
      },
      "source": [
        "La función **append( )** agrega un elemento al final de la lista."
      ]
    },
    {
      "cell_type": "markdown",
      "metadata": {
        "id": "Q3gyMF_bBen2"
      },
      "source": [
        "### Ejercicio:\n",
        "\n",
        "1 Generar una lista de 20 números aleatorios.\n",
        "\n",
        "2 Obtener el promedio de los 10 últimos números generados."
      ]
    },
    {
      "cell_type": "code",
      "execution_count": 19,
      "metadata": {
        "id": "29-dgkHeBen2"
      },
      "outputs": [],
      "source": []
    },
    {
      "cell_type": "code",
      "execution_count": 19,
      "metadata": {
        "id": "txRml8t7Ben3"
      },
      "outputs": [],
      "source": []
    },
    {
      "cell_type": "markdown",
      "metadata": {
        "id": "sYG7XTnMBen3"
      },
      "source": [
        "## Diccionarios"
      ]
    },
    {
      "cell_type": "markdown",
      "metadata": {
        "id": "XIxbhsMVBen3"
      },
      "source": [
        "Un **diccionario** es una estructura de datos que almacena conjuntos de pares **clave-valor**."
      ]
    },
    {
      "cell_type": "markdown",
      "metadata": {
        "id": "oxAaWdHkBen3"
      },
      "source": [
        "Para definir un diccionario se escribe un listado entre llaves, {}, mediante un sistema de pares clave-valor. Las entredas se separan por comas y la clave se separa del valor mediante dos puntos, :."
      ]
    },
    {
      "cell_type": "code",
      "execution_count": null,
      "metadata": {
        "id": "nNXS1BPzBen4"
      },
      "outputs": [],
      "source": [
        "diccionario = {'Nombre': 'Isaac', 'Edad':'22', 'Cursos':['Ecuaciones','Simulación','Operaciones']}"
      ]
    },
    {
      "cell_type": "code",
      "execution_count": null,
      "metadata": {
        "id": "RUz8HxSIBeoA"
      },
      "outputs": [],
      "source": [
        "diccionario['Nombre']"
      ]
    },
    {
      "cell_type": "code",
      "execution_count": null,
      "metadata": {
        "id": "jL9hVCeDBeoA"
      },
      "outputs": [],
      "source": [
        "diccionario['Cursos'][1]"
      ]
    },
    {
      "cell_type": "markdown",
      "metadata": {
        "id": "uwBP2uECBeoA"
      },
      "source": [
        "La función **dict( )** permite crear un diccionario:"
      ]
    },
    {
      "cell_type": "code",
      "execution_count": null,
      "metadata": {
        "id": "vM07vBH-BeoB"
      },
      "outputs": [],
      "source": [
        "d = dict(a=1, b=2, c=3)"
      ]
    },
    {
      "cell_type": "code",
      "execution_count": null,
      "metadata": {
        "id": "hPpJw7tQBeoB"
      },
      "outputs": [],
      "source": [
        "print(d)"
      ]
    },
    {
      "cell_type": "code",
      "execution_count": null,
      "metadata": {
        "id": "FE251iEWBeoB"
      },
      "outputs": [],
      "source": [
        "type(d)"
      ]
    },
    {
      "cell_type": "code",
      "execution_count": null,
      "metadata": {
        "id": "WIGxorFSBeoC"
      },
      "outputs": [],
      "source": [
        "len(d)"
      ]
    },
    {
      "cell_type": "markdown",
      "metadata": {
        "id": "P3H8TBdcBeoC"
      },
      "source": [
        "Con el operador in podemos comprobar si una determinada **clave** está en el diccionario: dará True si está y False si no está."
      ]
    },
    {
      "cell_type": "code",
      "execution_count": null,
      "metadata": {
        "id": "h0aaCnN_BeoC"
      },
      "outputs": [],
      "source": [
        "'a' in d"
      ]
    },
    {
      "cell_type": "markdown",
      "metadata": {
        "id": "rzp9shliBeoD"
      },
      "source": [
        "Las diccionarios son iterables: podemos recorrer sus elementos mediante un bucle:"
      ]
    },
    {
      "cell_type": "code",
      "execution_count": null,
      "metadata": {
        "id": "feIqa-RZBeoD"
      },
      "outputs": [],
      "source": [
        "for key in diccionario:\n",
        "    print(key, \":\", diccionario[key])"
      ]
    },
    {
      "cell_type": "markdown",
      "metadata": {
        "id": "ih2Xk9_3BeoD"
      },
      "source": [
        "**items()** devuelve las tuplas clave-valor del diccionario."
      ]
    },
    {
      "cell_type": "code",
      "execution_count": null,
      "metadata": {
        "id": "AB1Uoc0fBeoE"
      },
      "outputs": [],
      "source": [
        "diccionario.items()"
      ]
    },
    {
      "cell_type": "markdown",
      "metadata": {
        "id": "l53L-lysBeoE"
      },
      "source": [
        "**items()** devuelve una tupla, lo cual permite verificar si un par clave-valor está en el diccionario."
      ]
    },
    {
      "cell_type": "code",
      "execution_count": null,
      "metadata": {
        "id": "9kzv8SuvBeoE"
      },
      "outputs": [],
      "source": [
        "('a',1) in d.items()"
      ]
    },
    {
      "cell_type": "markdown",
      "metadata": {
        "id": "hIcd6pOlBeoF"
      },
      "source": [
        "**values()** devuelve una lista de los valores del diccionario."
      ]
    },
    {
      "cell_type": "code",
      "execution_count": null,
      "metadata": {
        "id": "dsreRqnMBeoF"
      },
      "outputs": [],
      "source": [
        "diccionario.values()"
      ]
    },
    {
      "cell_type": "code",
      "execution_count": null,
      "metadata": {
        "id": "fcuzL9M4BeoF"
      },
      "outputs": [],
      "source": []
    }
  ],
  "metadata": {
    "kernelspec": {
      "display_name": "Python 3",
      "language": "python",
      "name": "python3"
    },
    "language_info": {
      "codemirror_mode": {
        "name": "ipython",
        "version": 3
      },
      "file_extension": ".py",
      "mimetype": "text/x-python",
      "name": "python",
      "nbconvert_exporter": "python",
      "pygments_lexer": "ipython3",
      "version": "3.7.3"
    },
    "colab": {
      "provenance": []
    }
  },
  "nbformat": 4,
  "nbformat_minor": 0
}