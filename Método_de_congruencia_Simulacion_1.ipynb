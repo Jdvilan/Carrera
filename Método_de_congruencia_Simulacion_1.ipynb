{
  "cells": [
    {
      "cell_type": "markdown",
      "metadata": {
        "id": "x3RME9UCLhyw"
      },
      "source": [
        "**Metodo de congruencia**"
      ]
    },
    {
      "cell_type": "code",
      "execution_count": 2,
      "metadata": {
        "id": "iNPI4LxALnjJ"
      },
      "outputs": [],
      "source": [
        "def f(x0):\n",
        "\n",
        "  return (5*x0+5) % 29"
      ]
    },
    {
      "cell_type": "code",
      "execution_count": 3,
      "metadata": {
        "colab": {
          "base_uri": "https://localhost:8080/"
        },
        "id": "6mEuAEcIXD2g",
        "outputId": "447fcc52-8af8-4743-e347-f472e27f931d"
      },
      "outputs": [
        {
          "output_type": "stream",
          "name": "stdout",
          "text": [
            "26\n",
            "19\n",
            "13\n",
            "12\n",
            "7\n",
            "11\n",
            "2\n",
            "15\n",
            "22\n",
            "28\n",
            "0\n",
            "5\n",
            "1\n",
            "10\n",
            "26\n",
            "19\n",
            "13\n",
            "12\n",
            "7\n",
            "11\n",
            "2\n",
            "15\n",
            "22\n",
            "28\n",
            "0\n",
            "5\n",
            "1\n",
            "10\n",
            "26\n",
            "19\n",
            "13\n",
            "12\n"
          ]
        }
      ],
      "source": [
        "xn = 10\n",
        "\n",
        "for i in range(32):\n",
        "    xn1 = f(xn)\n",
        "    print(xn1)\n",
        "    xn = xn1"
      ]
    },
    {
      "cell_type": "code",
      "source": [
        "from prettytable import PrettyTable\n",
        "\n",
        "def f(x0):\n",
        "    return (13 * x0 + 0) % 64\n",
        "\n",
        "xn = 1\n",
        "\n",
        "# Configurar la tabla\n",
        "tabla = PrettyTable([\"Iteración\", \"xn\"])\n",
        "\n",
        "# Generar la secuencia de números\n",
        "for i in range(17):\n",
        "    xn1 = f(xn)\n",
        "    tabla.add_row([i + 1, xn])\n",
        "    xn = xn1\n",
        "\n",
        "# Imprimir la tabla\n",
        "print(tabla)"
      ],
      "metadata": {
        "colab": {
          "base_uri": "https://localhost:8080/"
        },
        "id": "28XwmpoLywZi",
        "outputId": "c636807e-2b8b-4b41-e992-53246be1d14d"
      },
      "execution_count": 8,
      "outputs": [
        {
          "output_type": "stream",
          "name": "stdout",
          "text": [
            "+-----------+----+\n",
            "| Iteración | xn |\n",
            "+-----------+----+\n",
            "|     1     | 1  |\n",
            "|     2     | 13 |\n",
            "|     3     | 41 |\n",
            "|     4     | 21 |\n",
            "|     5     | 17 |\n",
            "|     6     | 29 |\n",
            "|     7     | 57 |\n",
            "|     8     | 37 |\n",
            "|     9     | 33 |\n",
            "|     10    | 45 |\n",
            "|     11    | 9  |\n",
            "|     12    | 53 |\n",
            "|     13    | 49 |\n",
            "|     14    | 61 |\n",
            "|     15    | 25 |\n",
            "|     16    | 5  |\n",
            "|     17    | 1  |\n",
            "+-----------+----+\n"
          ]
        }
      ]
    }
  ],
  "metadata": {
    "colab": {
      "provenance": [],
      "authorship_tag": "ABX9TyOx9aJdUWLln98pRsZWw2Lk"
    },
    "kernelspec": {
      "display_name": "Python 3",
      "name": "python3"
    },
    "language_info": {
      "name": "python"
    }
  },
  "nbformat": 4,
  "nbformat_minor": 0
}