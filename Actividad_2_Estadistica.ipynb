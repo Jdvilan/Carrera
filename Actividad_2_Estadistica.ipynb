{
  "nbformat": 4,
  "nbformat_minor": 0,
  "metadata": {
    "colab": {
      "provenance": [],
      "authorship_tag": "ABX9TyMwztzwmlqoOKPKyunhp8LW"
    },
    "kernelspec": {
      "name": "python3",
      "display_name": "Python 3"
    },
    "language_info": {
      "name": "python"
    }
  },
  "cells": [
    {
      "cell_type": "markdown",
      "source": [
        "En el grupo 6MV2 de estadistica, se realizo una encuesta para saber cuantos chats sin responder tenian los estudiantes obteniendo los siguientes resultados:"
      ],
      "metadata": {
        "id": "6iSQHsLDW3T_"
      }
    },
    {
      "cell_type": "code",
      "source": [
        "from tabulate import tabulate\n",
        "\n",
        "# Arreglo de números\n",
        "numeros = [8, 6, 0, 1, 156, 40, 105, 0, 7, 1, 1, 68, 0, 141, 2, 26, 2, 22, 80, 224, 38, 29]\n",
        "\n",
        "# Crear una lista de tuplas con el índice y el número\n",
        "tabla = [(i+1, num) for i, num in enumerate(numeros)]\n",
        "\n",
        "# Mostrar la tabla numerada\n",
        "print(tabulate(tabla, headers=[\"Número\", \"Valor\"], tablefmt=\"pretty\"))"
      ],
      "metadata": {
        "colab": {
          "base_uri": "https://localhost:8080/"
        },
        "id": "_svt1frhX_v0",
        "outputId": "1733e778-ca99-473e-9f93-7ab38d3f512e"
      },
      "execution_count": 2,
      "outputs": [
        {
          "output_type": "stream",
          "name": "stdout",
          "text": [
            "+--------+-------+\n",
            "| Número | Valor |\n",
            "+--------+-------+\n",
            "|   1    |   8   |\n",
            "|   2    |   6   |\n",
            "|   3    |   0   |\n",
            "|   4    |   1   |\n",
            "|   5    |  156  |\n",
            "|   6    |  40   |\n",
            "|   7    |  105  |\n",
            "|   8    |   0   |\n",
            "|   9    |   7   |\n",
            "|   10   |   1   |\n",
            "|   11   |   1   |\n",
            "|   12   |  68   |\n",
            "|   13   |   0   |\n",
            "|   14   |  141  |\n",
            "|   15   |   2   |\n",
            "|   16   |  26   |\n",
            "|   17   |   2   |\n",
            "|   18   |  22   |\n",
            "|   19   |  80   |\n",
            "|   20   |  224  |\n",
            "|   21   |  38   |\n",
            "|   22   |  29   |\n",
            "+--------+-------+\n"
          ]
        }
      ]
    },
    {
      "cell_type": "markdown",
      "source": [
        "Generar un histograma para los datos."
      ],
      "metadata": {
        "id": "b_LuU5yrYdWA"
      }
    },
    {
      "cell_type": "code",
      "source": [
        "# Definir los rangos de las clases\n",
        "rango = 50\n",
        "minimo = min(numeros)\n",
        "maximo = max(numeros)\n",
        "\n",
        "# Crear los intervalos de clase\n",
        "clases = []\n",
        "inicio = minimo\n",
        "while inicio <= maximo:\n",
        "    fin = inicio + rango\n",
        "    clases.append((inicio, fin))\n",
        "    inicio = fin\n",
        "\n",
        "# Calcular frecuencias absolutas\n",
        "frecuencias_abs = [0] * len(clases)\n",
        "for num in numeros:\n",
        "    for i, (inicio, fin) in enumerate(clases):\n",
        "        if inicio <= num < fin:\n",
        "            frecuencias_abs[i] += 1\n",
        "            break\n",
        "\n",
        "# Calcular frecuencias relativas\n",
        "total_datos = len(numeros)\n",
        "frecuencias_rel = [freq / total_datos for freq in frecuencias_abs]\n",
        "\n",
        "# Crear la tabla de resultados\n",
        "tabla = []\n",
        "for i, (inicio, fin) in enumerate(clases):\n",
        "    intervalo = f\"[{inicio}, {fin})\"\n",
        "    tabla.append([intervalo, frecuencias_abs[i], round(frecuencias_rel[i], 4)])\n",
        "\n",
        "# Mostrar la tabla\n",
        "print(tabulate(tabla, headers=[\"Intervalo\", \"Frecuencia Absoluta\", \"Frecuencia Relativa\"], tablefmt=\"pretty\"))"
      ],
      "metadata": {
        "colab": {
          "base_uri": "https://localhost:8080/"
        },
        "id": "RC8UUJkXYke3",
        "outputId": "8edb1be0-678f-4e37-8637-ffbe260404a3"
      },
      "execution_count": 4,
      "outputs": [
        {
          "output_type": "stream",
          "name": "stdout",
          "text": [
            "+------------+---------------------+---------------------+\n",
            "| Intervalo  | Frecuencia Absoluta | Frecuencia Relativa |\n",
            "+------------+---------------------+---------------------+\n",
            "|  [0, 50)   |         16          |       0.7273        |\n",
            "| [50, 100)  |          2          |       0.0909        |\n",
            "| [100, 150) |          2          |       0.0909        |\n",
            "| [150, 200) |          1          |       0.0455        |\n",
            "| [200, 250) |          1          |       0.0455        |\n",
            "+------------+---------------------+---------------------+\n"
          ]
        }
      ]
    },
    {
      "cell_type": "code",
      "source": [
        "import matplotlib.pyplot as plt\n",
        "\n",
        "# Crear los intervalos de clase\n",
        "clases = list(range(minimo, maximo + rango, rango))\n",
        "\n",
        "# Crear el histograma\n",
        "plt.hist(numeros, bins=clases, edgecolor='black', alpha=0.7)\n",
        "\n",
        "# Personalizar el gráfico\n",
        "plt.title(\"Chats no respondidos\")\n",
        "plt.xlabel(\"No. de chats\")\n",
        "plt.ylabel(\"Frecuencia\")\n",
        "plt.xticks(clases)  # Mostrar todos los límites de clase en el eje X\n",
        "plt.grid(axis='y', linestyle='--', alpha=0.7)\n",
        "\n",
        "# Mostrar el histograma\n",
        "plt.show()"
      ],
      "metadata": {
        "colab": {
          "base_uri": "https://localhost:8080/",
          "height": 472
        },
        "id": "5cPUeVdTbE8t",
        "outputId": "eeb738c9-e20c-45cf-cd3b-10bfbf5e4de5"
      },
      "execution_count": 7,
      "outputs": [
        {
          "output_type": "display_data",
          "data": {
            "text/plain": [
              "<Figure size 640x480 with 1 Axes>"
            ],
            "image/png": "[encoded data removed]"
          },
          "metadata": {}
        }
      ]
    }
  ]
}